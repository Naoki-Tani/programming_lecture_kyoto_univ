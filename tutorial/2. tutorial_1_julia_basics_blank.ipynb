{
 "cells": [
  {
   "cell_type": "markdown",
   "id": "2f8434b1-642c-424f-b174-d531032beedb",
   "metadata": {},
   "source": [
    "# 2. Tutorial 1: Julia Basics"
   ]
  },
  {
   "cell_type": "markdown",
   "id": "d33d2c91-4d76-42df-9fef-364718b00af7",
   "metadata": {},
   "source": [
    "#### Naoki TANI\n",
    "#### Center for Advanced Policy Studies (CAPS), Institute of Economic Research, Kyoto University\n",
    "#### April 12, 2023"
   ]
  },
  {
   "cell_type": "markdown",
   "id": "baa4d162-6e29-4545-9e0f-37c82045cc0a",
   "metadata": {},
   "source": [
    "## 1. Basic Julia syntax"
   ]
  },
  {
   "cell_type": "markdown",
   "id": "e7648596-0522-4d14-9ca8-bead7e00215f",
   "metadata": {},
   "source": [
    "### 1-1. Variable assignment"
   ]
  },
  {
   "cell_type": "code",
   "execution_count": 1,
   "id": "14687e34-12c2-4be9-af4e-4080708b46ba",
   "metadata": {},
   "outputs": [
    {
     "data": {
      "text/plain": [
       "3"
      ]
     },
     "execution_count": 1,
     "metadata": {},
     "output_type": "execute_result"
    }
   ],
   "source": [
    "# Assign the value 3 to the variable x\n",
    "x = 3"
   ]
  },
  {
   "cell_type": "code",
   "execution_count": 2,
   "id": "a5de39c2-0cd3-4263-843d-412bcefed3c9",
   "metadata": {},
   "outputs": [
    {
     "data": {
      "text/plain": [
       "5"
      ]
     },
     "execution_count": 2,
     "metadata": {},
     "output_type": "execute_result"
    }
   ],
   "source": []
  },
  {
   "cell_type": "code",
   "execution_count": 3,
   "id": "892283b3-98c2-4324-9966-e94bb096d592",
   "metadata": {},
   "outputs": [
    {
     "data": {
      "text/plain": [
       "2"
      ]
     },
     "execution_count": 3,
     "metadata": {},
     "output_type": "execute_result"
    }
   ],
   "source": []
  },
  {
   "cell_type": "markdown",
   "id": "480da777-4eee-49f9-b245-30a89a0a7386",
   "metadata": {},
   "source": [
    "### 1-2. Mathematical operators"
   ]
  },
  {
   "cell_type": "code",
   "execution_count": 4,
   "id": "5c8f110c-fbcc-406d-abc2-5c591ec13575",
   "metadata": {},
   "outputs": [
    {
     "data": {
      "text/plain": [
       "8"
      ]
     },
     "execution_count": 4,
     "metadata": {},
     "output_type": "execute_result"
    }
   ],
   "source": [
    "#addition\n"
   ]
  },
  {
   "cell_type": "code",
   "execution_count": 5,
   "id": "b34d172b-43ef-4d96-b075-f8f1c0c6459b",
   "metadata": {},
   "outputs": [
    {
     "data": {
      "text/plain": [
       "2"
      ]
     },
     "execution_count": 5,
     "metadata": {},
     "output_type": "execute_result"
    }
   ],
   "source": [
    "#subtraction\n"
   ]
  },
  {
   "cell_type": "code",
   "execution_count": 6,
   "id": "9cdb5c04-c15a-4605-bf5a-68de98be04e6",
   "metadata": {},
   "outputs": [
    {
     "data": {
      "text/plain": [
       "15"
      ]
     },
     "execution_count": 6,
     "metadata": {},
     "output_type": "execute_result"
    }
   ],
   "source": [
    "#multiplication\n"
   ]
  },
  {
   "cell_type": "code",
   "execution_count": 7,
   "id": "f8c42196-1069-45cd-9b1e-f5f6c60b9637",
   "metadata": {},
   "outputs": [
    {
     "data": {
      "text/plain": [
       "0.6"
      ]
     },
     "execution_count": 7,
     "metadata": {},
     "output_type": "execute_result"
    }
   ],
   "source": [
    "#division\n"
   ]
  },
  {
   "cell_type": "code",
   "execution_count": 8,
   "id": "07b42751-7105-4784-9657-0efe8c7dbaca",
   "metadata": {},
   "outputs": [
    {
     "data": {
      "text/plain": [
       "243"
      ]
     },
     "execution_count": 8,
     "metadata": {},
     "output_type": "execute_result"
    }
   ],
   "source": [
    "#power\n"
   ]
  },
  {
   "cell_type": "markdown",
   "id": "228f9c00-4cfb-4670-b99b-cdb4e0dd20a0",
   "metadata": {},
   "source": [
    "### 1-3. Booleans (論理型)"
   ]
  },
  {
   "cell_type": "code",
   "execution_count": 9,
   "id": "9ef24aca-9b48-42dd-95f8-98d0e677e198",
   "metadata": {},
   "outputs": [
    {
     "data": {
      "text/plain": [
       "false"
      ]
     },
     "execution_count": 9,
     "metadata": {},
     "output_type": "execute_result"
    }
   ],
   "source": [
    "#equality\n"
   ]
  },
  {
   "cell_type": "code",
   "execution_count": 10,
   "id": "70e6e874-2701-40e0-978b-bf3d3bbbccf8",
   "metadata": {},
   "outputs": [
    {
     "data": {
      "text/plain": [
       "true"
      ]
     },
     "execution_count": 10,
     "metadata": {},
     "output_type": "execute_result"
    }
   ],
   "source": []
  },
  {
   "cell_type": "code",
   "execution_count": 11,
   "id": "e2c59c04-9691-45ec-8e57-50098207782a",
   "metadata": {},
   "outputs": [
    {
     "data": {
      "text/plain": [
       "true"
      ]
     },
     "execution_count": 11,
     "metadata": {},
     "output_type": "execute_result"
    }
   ],
   "source": [
    "#inequality\n"
   ]
  },
  {
   "cell_type": "code",
   "execution_count": 12,
   "id": "5bbae112-7c7d-4a76-bf48-ce6f13361f6a",
   "metadata": {},
   "outputs": [
    {
     "data": {
      "text/plain": [
       "true"
      ]
     },
     "execution_count": 12,
     "metadata": {},
     "output_type": "execute_result"
    }
   ],
   "source": [
    "#less than\n"
   ]
  },
  {
   "cell_type": "code",
   "execution_count": 13,
   "id": "1aa16539-6f40-4bde-9764-2d92f9f1fe27",
   "metadata": {},
   "outputs": [
    {
     "data": {
      "text/plain": [
       "true"
      ]
     },
     "execution_count": 13,
     "metadata": {},
     "output_type": "execute_result"
    }
   ],
   "source": [
    "#less than or equal to\n"
   ]
  },
  {
   "cell_type": "code",
   "execution_count": 14,
   "id": "3ec90b4d-45c7-4480-bf1d-da9a561adb8c",
   "metadata": {},
   "outputs": [
    {
     "data": {
      "text/plain": [
       "true"
      ]
     },
     "execution_count": 14,
     "metadata": {},
     "output_type": "execute_result"
    }
   ],
   "source": [
    "#greater than\n"
   ]
  },
  {
   "cell_type": "code",
   "execution_count": 15,
   "id": "6bc51193-626b-4223-9ee8-b72dd9c5d1f7",
   "metadata": {},
   "outputs": [
    {
     "data": {
      "text/plain": [
       "true"
      ]
     },
     "execution_count": 15,
     "metadata": {},
     "output_type": "execute_result"
    }
   ],
   "source": [
    "#greater than or equal to \n"
   ]
  },
  {
   "cell_type": "markdown",
   "id": "d3813b29-94c0-4aa7-b865-001ef484a2d6",
   "metadata": {},
   "source": [
    "### 1-4. Boolean operators(論理演算子)"
   ]
  },
  {
   "cell_type": "code",
   "execution_count": 16,
   "id": "f3788319-e975-44d7-957c-55989ffded11",
   "metadata": {},
   "outputs": [
    {
     "data": {
      "text/plain": [
       "true"
      ]
     },
     "execution_count": 16,
     "metadata": {},
     "output_type": "execute_result"
    }
   ],
   "source": [
    "#logical disjunction (論理和)\n",
    "true || true"
   ]
  },
  {
   "cell_type": "code",
   "execution_count": 17,
   "id": "4e1543a6-5a91-4e26-8a6b-36b2f84db33c",
   "metadata": {},
   "outputs": [
    {
     "data": {
      "text/plain": [
       "true"
      ]
     },
     "execution_count": 17,
     "metadata": {},
     "output_type": "execute_result"
    }
   ],
   "source": []
  },
  {
   "cell_type": "code",
   "execution_count": 18,
   "id": "f723e255-8542-493e-8c20-6ca268075c92",
   "metadata": {},
   "outputs": [
    {
     "data": {
      "text/plain": [
       "true"
      ]
     },
     "execution_count": 18,
     "metadata": {},
     "output_type": "execute_result"
    }
   ],
   "source": [
    "#logical conjunction (論理積)\n",
    "true && true"
   ]
  },
  {
   "cell_type": "code",
   "execution_count": 19,
   "id": "aac8627b-26b4-49a2-a3b5-1ae5e2111038",
   "metadata": {},
   "outputs": [
    {
     "data": {
      "text/plain": [
       "false"
      ]
     },
     "execution_count": 19,
     "metadata": {},
     "output_type": "execute_result"
    }
   ],
   "source": []
  },
  {
   "cell_type": "markdown",
   "id": "4b7115ee-6117-401a-aef8-954bdf884d02",
   "metadata": {},
   "source": [
    "### 1-5. Basic types (データ型)"
   ]
  },
  {
   "cell_type": "code",
   "execution_count": 20,
   "id": "db302af2-c9e7-47fb-b8e5-fb9cf3278f6a",
   "metadata": {},
   "outputs": [
    {
     "data": {
      "text/plain": [
       "Int64"
      ]
     },
     "execution_count": 20,
     "metadata": {},
     "output_type": "execute_result"
    }
   ],
   "source": [
    "typeof(x)"
   ]
  },
  {
   "cell_type": "code",
   "execution_count": 21,
   "id": "236ab471-b350-4db9-9656-434f56fe9231",
   "metadata": {},
   "outputs": [
    {
     "data": {
      "text/plain": [
       "Int64"
      ]
     },
     "execution_count": 21,
     "metadata": {},
     "output_type": "execute_result"
    }
   ],
   "source": []
  },
  {
   "cell_type": "code",
   "execution_count": 22,
   "id": "07fda44f-df91-49a7-9dcc-d9bde647718a",
   "metadata": {},
   "outputs": [
    {
     "data": {
      "text/plain": [
       "Float64"
      ]
     },
     "execution_count": 22,
     "metadata": {},
     "output_type": "execute_result"
    }
   ],
   "source": []
  },
  {
   "cell_type": "code",
   "execution_count": 23,
   "id": "a3737d09-d41a-40df-8302-89e224d14129",
   "metadata": {},
   "outputs": [
    {
     "data": {
      "text/plain": [
       "Float64"
      ]
     },
     "execution_count": 23,
     "metadata": {},
     "output_type": "execute_result"
    }
   ],
   "source": []
  },
  {
   "cell_type": "code",
   "execution_count": 24,
   "id": "c3d4515e-c823-46b7-a0ee-f3d0c2220f8f",
   "metadata": {},
   "outputs": [
    {
     "data": {
      "text/plain": [
       "Complex{Int64}"
      ]
     },
     "execution_count": 24,
     "metadata": {},
     "output_type": "execute_result"
    }
   ],
   "source": []
  },
  {
   "cell_type": "code",
   "execution_count": 25,
   "id": "aa9c8e69-8168-4e9d-8c37-2cfceb6d1910",
   "metadata": {},
   "outputs": [
    {
     "data": {
      "text/plain": [
       "String"
      ]
     },
     "execution_count": 25,
     "metadata": {},
     "output_type": "execute_result"
    }
   ],
   "source": []
  },
  {
   "cell_type": "code",
   "execution_count": 26,
   "id": "4b6dd272-d505-4f61-8781-39bcc3ebf4e3",
   "metadata": {},
   "outputs": [
    {
     "data": {
      "text/plain": [
       "false"
      ]
     },
     "execution_count": 26,
     "metadata": {},
     "output_type": "execute_result"
    }
   ],
   "source": [
    "#useful functions to test numbers for special values\n"
   ]
  },
  {
   "cell_type": "code",
   "execution_count": 27,
   "id": "ef39a2c3-539f-4b22-99b9-444e63400f13",
   "metadata": {},
   "outputs": [
    {
     "data": {
      "text/plain": [
       "true"
      ]
     },
     "execution_count": 27,
     "metadata": {},
     "output_type": "execute_result"
    }
   ],
   "source": []
  },
  {
   "cell_type": "code",
   "execution_count": 28,
   "id": "2bfd9169-9b6f-495b-8c1b-fa69dff26b0d",
   "metadata": {},
   "outputs": [
    {
     "data": {
      "text/plain": [
       "false"
      ]
     },
     "execution_count": 28,
     "metadata": {},
     "output_type": "execute_result"
    }
   ],
   "source": []
  },
  {
   "cell_type": "code",
   "execution_count": 29,
   "id": "e5646c0a-1890-4100-9831-a0134923bb47",
   "metadata": {},
   "outputs": [
    {
     "data": {
      "text/plain": [
       "true"
      ]
     },
     "execution_count": 29,
     "metadata": {},
     "output_type": "execute_result"
    }
   ],
   "source": []
  },
  {
   "cell_type": "code",
   "execution_count": 30,
   "id": "6743f0a0-2ba5-4035-bf08-84cb94429ece",
   "metadata": {},
   "outputs": [
    {
     "data": {
      "text/plain": [
       "1"
      ]
     },
     "execution_count": 30,
     "metadata": {},
     "output_type": "execute_result"
    }
   ],
   "source": []
  },
  {
   "cell_type": "markdown",
   "id": "127272bf-83fb-4bde-af88-76b53b5b0988",
   "metadata": {},
   "source": [
    "### 1-6. Strings (文字列)"
   ]
  },
  {
   "cell_type": "code",
   "execution_count": 31,
   "id": "49fc4674-3666-47cb-b3a8-718e5d9259e2",
   "metadata": {},
   "outputs": [
    {
     "data": {
      "text/plain": [
       "\"Kyoto\""
      ]
     },
     "execution_count": 31,
     "metadata": {},
     "output_type": "execute_result"
    }
   ],
   "source": [
    "#Strings are written with double quotes\n",
    "\"Kyoto\""
   ]
  },
  {
   "cell_type": "code",
   "execution_count": 32,
   "id": "e6bf8ea7-e564-4793-a83c-23ad86857dcf",
   "metadata": {},
   "outputs": [
    {
     "data": {
      "text/plain": [
       "\"The sum of x and y is equal to 8\""
      ]
     },
     "execution_count": 32,
     "metadata": {},
     "output_type": "execute_result"
    }
   ],
   "source": [
    "#sting interpolation using $\n",
    "x + y\n"
   ]
  },
  {
   "cell_type": "markdown",
   "id": "377add1c-7386-4518-8ab3-913e671c95de",
   "metadata": {},
   "source": [
    "### 1-7. Arrays"
   ]
  },
  {
   "cell_type": "code",
   "execution_count": 33,
   "id": "43afacbf-8706-4fb6-97ef-27e85f0167d7",
   "metadata": {},
   "outputs": [
    {
     "data": {
      "text/plain": [
       "3-element Vector{Int64}:\n",
       " 1\n",
       " 2\n",
       " 3"
      ]
     },
     "execution_count": 33,
     "metadata": {},
     "output_type": "execute_result"
    }
   ],
   "source": [
    "#one-dimensional array, which is called Vector.\n",
    "X = [1, 2, 3]"
   ]
  },
  {
   "cell_type": "code",
   "execution_count": 34,
   "id": "208db2a5-dbcd-47a1-bade-93aec2b0909a",
   "metadata": {},
   "outputs": [
    {
     "data": {
      "text/plain": [
       "2×2 Matrix{Int64}:\n",
       " 1  2\n",
       " 3  4"
      ]
     },
     "execution_count": 34,
     "metadata": {},
     "output_type": "execute_result"
    }
   ],
   "source": [
    "#two-dimensional array, which is called Matrix.\n",
    "Y = [1 2;3 4]"
   ]
  },
  {
   "cell_type": "code",
   "execution_count": 35,
   "id": "d28adb43-8ca4-47d8-9577-a8f3d3811ae8",
   "metadata": {},
   "outputs": [
    {
     "data": {
      "text/plain": [
       "2×2×2 Array{Int64, 3}:\n",
       "[:, :, 1] =\n",
       " 1  2\n",
       " 3  4\n",
       "\n",
       "[:, :, 2] =\n",
       " 5  6\n",
       " 7  8"
      ]
     },
     "execution_count": 35,
     "metadata": {},
     "output_type": "execute_result"
    }
   ],
   "source": [
    "#three-dimensional array\n"
   ]
  },
  {
   "cell_type": "code",
   "execution_count": 36,
   "id": "593f8193-39f3-46c8-bd1c-84bc1c10896c",
   "metadata": {},
   "outputs": [
    {
     "data": {
      "text/plain": [
       "(2, 2)"
      ]
     },
     "execution_count": 36,
     "metadata": {},
     "output_type": "execute_result"
    }
   ],
   "source": [
    "#get array size\n"
   ]
  },
  {
   "cell_type": "code",
   "execution_count": 37,
   "id": "b771b98c-4886-4dc2-9d1a-3dcbffc722fb",
   "metadata": {},
   "outputs": [
    {
     "data": {
      "text/plain": [
       "4"
      ]
     },
     "execution_count": 37,
     "metadata": {},
     "output_type": "execute_result"
    }
   ],
   "source": [
    "#get array length\n"
   ]
  },
  {
   "cell_type": "code",
   "execution_count": 38,
   "id": "a7022657-7b1e-43c2-a95e-b5ed9e68faed",
   "metadata": {},
   "outputs": [
    {
     "data": {
      "text/plain": [
       "2×2 transpose(::Matrix{Int64}) with eltype Int64:\n",
       " 1  3\n",
       " 2  4"
      ]
     },
     "execution_count": 38,
     "metadata": {},
     "output_type": "execute_result"
    }
   ],
   "source": [
    "#transpose\n"
   ]
  },
  {
   "cell_type": "code",
   "execution_count": 39,
   "id": "144a9087-ef26-453f-b3da-04a52b272561",
   "metadata": {},
   "outputs": [
    {
     "data": {
      "text/plain": [
       "2"
      ]
     },
     "execution_count": 39,
     "metadata": {},
     "output_type": "execute_result"
    }
   ],
   "source": [
    "#get an element yᵢⱼ with Y[i,j]\n"
   ]
  },
  {
   "cell_type": "code",
   "execution_count": 40,
   "id": "23603ed8-5776-43e1-9090-c47871be63a1",
   "metadata": {},
   "outputs": [
    {
     "data": {
      "text/plain": [
       "2-element Vector{Int64}:\n",
       " 1\n",
       " 3"
      ]
     },
     "execution_count": 40,
     "metadata": {},
     "output_type": "execute_result"
    }
   ],
   "source": [
    "#extract a row from an array\n"
   ]
  },
  {
   "cell_type": "code",
   "execution_count": 41,
   "id": "b0390a13-070e-4af3-9376-3ee17a69cec7",
   "metadata": {},
   "outputs": [
    {
     "data": {
      "text/plain": [
       "2×2 Matrix{Int64}:\n",
       " 5  2\n",
       " 3  4"
      ]
     },
     "execution_count": 41,
     "metadata": {},
     "output_type": "execute_result"
    }
   ],
   "source": [
    "#Arrays are mutable\n"
   ]
  },
  {
   "cell_type": "code",
   "execution_count": 42,
   "id": "6e14c10b-5767-46d2-aa42-6cff14f5009e",
   "metadata": {},
   "outputs": [
    {
     "data": {
      "text/plain": [
       "4-element Vector{Int64}:\n",
       " 1\n",
       " 2\n",
       " 3\n",
       " 0"
      ]
     },
     "execution_count": 42,
     "metadata": {},
     "output_type": "execute_result"
    }
   ],
   "source": [
    "#Array size can be changed.\n",
    "#push some elements to an array\n",
    "\n",
    "#pushfirst!(X,0)\n",
    "push!(X,0)"
   ]
  },
  {
   "cell_type": "code",
   "execution_count": 43,
   "id": "7b4a076d-1362-4a1a-9f3b-880966286c65",
   "metadata": {},
   "outputs": [
    {
     "data": {
      "text/plain": [
       "3×2 Matrix{Float64}:\n",
       " 0.0  0.0\n",
       " 0.0  0.0\n",
       " 0.0  0.0"
      ]
     },
     "execution_count": 43,
     "metadata": {},
     "output_type": "execute_result"
    }
   ],
   "source": [
    "#zero array\n"
   ]
  },
  {
   "cell_type": "code",
   "execution_count": 44,
   "id": "54535735-ad44-46b8-af43-d9dcedb134be",
   "metadata": {},
   "outputs": [
    {
     "data": {
      "text/plain": [
       "3×2 Matrix{Float64}:\n",
       " 0.200021  0.466611\n",
       " 0.603458  0.467009\n",
       " 0.793276  0.015687"
      ]
     },
     "execution_count": 44,
     "metadata": {},
     "output_type": "execute_result"
    }
   ],
   "source": [
    "#random array\n"
   ]
  },
  {
   "cell_type": "code",
   "execution_count": 45,
   "id": "99ade55a-3da7-405e-ab8d-22e2a4245589",
   "metadata": {},
   "outputs": [
    {
     "data": {
      "text/plain": [
       "3×2 Matrix{Float64}:\n",
       " -0.413725  -1.81991\n",
       "  1.64185   -0.413612\n",
       "  0.501835  -0.634323"
      ]
     },
     "execution_count": 45,
     "metadata": {},
     "output_type": "execute_result"
    }
   ],
   "source": [
    "#normally-distributed random array\n"
   ]
  },
  {
   "cell_type": "markdown",
   "id": "08586407-a63f-40f4-9b9b-d21933fc8f7e",
   "metadata": {},
   "source": [
    "### 1-8. Tuples"
   ]
  },
  {
   "cell_type": "code",
   "execution_count": 46,
   "id": "dc003d86-2e67-4575-a566-9a87d2a6c9c6",
   "metadata": {},
   "outputs": [
    {
     "data": {
      "text/plain": [
       "(1, 2, 3, 4, 5, 6, 7)"
      ]
     },
     "execution_count": 46,
     "metadata": {},
     "output_type": "execute_result"
    }
   ],
   "source": [
    "#declare a tuple with(...,...)\n",
    "z = (1,2,3,4,5,6,7)"
   ]
  },
  {
   "cell_type": "code",
   "execution_count": 47,
   "id": "22bd06cc-51a1-44f3-9355-1bd8797b4d85",
   "metadata": {},
   "outputs": [
    {
     "data": {
      "text/plain": [
       "7-element Vector{Int64}:\n",
       " 1\n",
       " 2\n",
       " 3\n",
       " 4\n",
       " 5\n",
       " 6\n",
       " 7"
      ]
     },
     "execution_count": 47,
     "metadata": {},
     "output_type": "execute_result"
    }
   ],
   "source": [
    "#convert a tuple to an array\n"
   ]
  },
  {
   "cell_type": "code",
   "execution_count": 48,
   "id": "81a4c6b2-b5d6-4ec3-88d4-097ae0868081",
   "metadata": {},
   "outputs": [
    {
     "data": {
      "text/plain": [
       "(1, 2, 3, 4, 5, 6, 7)"
      ]
     },
     "execution_count": 48,
     "metadata": {},
     "output_type": "execute_result"
    }
   ],
   "source": [
    "#convert an array to a tuple\n"
   ]
  },
  {
   "cell_type": "code",
   "execution_count": 49,
   "id": "fa9a093f-9929-4b5d-b9bd-308c278e9467",
   "metadata": {},
   "outputs": [
    {
     "ename": "LoadError",
     "evalue": "MethodError: no method matching setindex!(::NTuple{7, Int64}, ::Int64, ::Int64)",
     "output_type": "error",
     "traceback": [
      "MethodError: no method matching setindex!(::NTuple{7, Int64}, ::Int64, ::Int64)",
      "",
      "Stacktrace:",
      " [1] top-level scope",
      "   @ In[49]:3",
      " [2] eval",
      "   @ .\\boot.jl:368 [inlined]",
      " [3] include_string(mapexpr::typeof(REPL.softscope), mod::Module, code::String, filename::String)",
      "   @ Base .\\loading.jl:1428"
     ]
    }
   ],
   "source": [
    "#Tuples are immutable.\n",
    "\n",
    "#Recall that arrays are mutalbe."
   ]
  },
  {
   "cell_type": "code",
   "execution_count": 50,
   "id": "6918a1db-509c-498e-942d-d83981a954fe",
   "metadata": {},
   "outputs": [
    {
     "name": "stdout",
     "output_type": "stream",
     "text": [
      "  0.022737 seconds (103.16 k allocations: 5.558 MiB, 99.00% compilation time)\n"
     ]
    },
    {
     "data": {
      "text/plain": [
       "(2.1, 4.2, 6.300000000000001, 8.4, 10.5, 12.600000000000001, 14.700000000000001)"
      ]
     },
     "execution_count": 50,
     "metadata": {},
     "output_type": "execute_result"
    }
   ],
   "source": [
    "#improve performance\n",
    "@time z.*2.1 #tuple"
   ]
  },
  {
   "cell_type": "code",
   "execution_count": 51,
   "id": "e54a958d-26e4-45ec-87d7-0a8b2dae3157",
   "metadata": {},
   "outputs": [
    {
     "data": {
      "text/plain": [
       "7-element Vector{Int64}:\n",
       " 1\n",
       " 2\n",
       " 3\n",
       " 4\n",
       " 5\n",
       " 6\n",
       " 7"
      ]
     },
     "execution_count": 51,
     "metadata": {},
     "output_type": "execute_result"
    }
   ],
   "source": [
    "z = collect(z)"
   ]
  },
  {
   "cell_type": "code",
   "execution_count": 52,
   "id": "fa2863cd-3f1e-494b-938a-84a7716ebe10",
   "metadata": {},
   "outputs": [
    {
     "name": "stdout",
     "output_type": "stream",
     "text": [
      "  0.078526 seconds (165.42 k allocations: 8.713 MiB, 16.14% gc time, 99.56% compilation time)\n"
     ]
    },
    {
     "data": {
      "text/plain": [
       "7-element Vector{Float64}:\n",
       "  2.1\n",
       "  4.2\n",
       "  6.300000000000001\n",
       "  8.4\n",
       " 10.5\n",
       " 12.600000000000001\n",
       " 14.700000000000001"
      ]
     },
     "execution_count": 52,
     "metadata": {},
     "output_type": "execute_result"
    }
   ],
   "source": [
    "@time z.*2.1 #array"
   ]
  },
  {
   "cell_type": "markdown",
   "id": "6f2cf088-1e06-41fd-9633-52ec5414916d",
   "metadata": {},
   "source": [
    "### 1-9. Broadcasting"
   ]
  },
  {
   "cell_type": "code",
   "execution_count": 53,
   "id": "d59aeb92-69e5-4e86-af14-da6838ba3611",
   "metadata": {},
   "outputs": [
    {
     "data": {
      "text/plain": [
       "2×2 Matrix{Int64}:\n",
       " 11  14\n",
       " 23  30"
      ]
     },
     "execution_count": 53,
     "metadata": {},
     "output_type": "execute_result"
    }
   ],
   "source": [
    "X = [1 2;3 4]\n",
    "Y = [1 2;5 6]\n",
    "#matrix product\n",
    "X * Y"
   ]
  },
  {
   "cell_type": "code",
   "execution_count": 54,
   "id": "337bfcdb-703a-4d5b-84a4-a3231a3315ed",
   "metadata": {},
   "outputs": [
    {
     "data": {
      "text/plain": [
       "2×2 Matrix{Int64}:\n",
       "  1   4\n",
       " 15  24"
      ]
     },
     "execution_count": 54,
     "metadata": {},
     "output_type": "execute_result"
    }
   ],
   "source": [
    "#Hadamard product\n"
   ]
  },
  {
   "cell_type": "code",
   "execution_count": 55,
   "id": "187e200d-cca2-4a73-9016-21127e52f8a1",
   "metadata": {},
   "outputs": [
    {
     "data": {
      "text/plain": [
       "2×2 Matrix{Int64}:\n",
       "  1   4\n",
       " 15  24"
      ]
     },
     "execution_count": 55,
     "metadata": {},
     "output_type": "execute_result"
    }
   ],
   "source": []
  },
  {
   "cell_type": "code",
   "execution_count": 56,
   "id": "0accc502-6169-4c12-b00d-bc3757fed623",
   "metadata": {},
   "outputs": [
    {
     "data": {
      "text/plain": [
       "f (generic function with 1 method)"
      ]
     },
     "execution_count": 56,
     "metadata": {},
     "output_type": "execute_result"
    }
   ],
   "source": [
    "#You can use broadcast in a function\n",
    "f(x) = x^2"
   ]
  },
  {
   "cell_type": "code",
   "execution_count": 57,
   "id": "c7fa31c6-1342-4421-b725-941acfcfc18e",
   "metadata": {},
   "outputs": [
    {
     "data": {
      "text/plain": [
       "2×2 Matrix{Int64}:\n",
       "  7  10\n",
       " 15  22"
      ]
     },
     "execution_count": 57,
     "metadata": {},
     "output_type": "execute_result"
    }
   ],
   "source": [
    "f(X)"
   ]
  },
  {
   "cell_type": "code",
   "execution_count": 58,
   "id": "fe94da75-4faa-4f08-ae31-419ea872be98",
   "metadata": {},
   "outputs": [
    {
     "data": {
      "text/plain": [
       "2×2 Matrix{Int64}:\n",
       " 1   4\n",
       " 9  16"
      ]
     },
     "execution_count": 58,
     "metadata": {},
     "output_type": "execute_result"
    }
   ],
   "source": [
    "f.(X)"
   ]
  },
  {
   "cell_type": "code",
   "execution_count": null,
   "id": "f80e0f34-05bb-4bb9-b76a-d32e22b14889",
   "metadata": {},
   "outputs": [],
   "source": []
  },
  {
   "cell_type": "markdown",
   "id": "488356eb-2e9b-4bc0-8ca7-009b8ff8ad87",
   "metadata": {
    "tags": []
   },
   "source": [
    "## 2. Control flow (制御フロー)"
   ]
  },
  {
   "cell_type": "code",
   "execution_count": 59,
   "id": "63fb637a-059f-4ff3-9444-8d51788db98f",
   "metadata": {},
   "outputs": [
    {
     "name": "stdout",
     "output_type": "stream",
     "text": [
      "x is negative\n"
     ]
    }
   ],
   "source": [
    "#if-elseif-else conditions\n",
    "x = -1\n",
    "if x<0\n",
    "    println(\"x is negative\")\n",
    "elseif x >0\n",
    "    println(\"x is positive\")\n",
    "else \n",
    "    println(\"x is zero\")\n",
    "end"
   ]
  },
  {
   "cell_type": "code",
   "execution_count": 60,
   "id": "dac5cd22-4b60-47a0-9f25-b3431dadb60b",
   "metadata": {},
   "outputs": [
    {
     "name": "stdout",
     "output_type": "stream",
     "text": [
      "x<0\n"
     ]
    }
   ],
   "source": [
    "#ternary operator \n"
   ]
  },
  {
   "cell_type": "code",
   "execution_count": 61,
   "id": "2ad2e429-08bf-4c95-b039-b738bb63eaee",
   "metadata": {},
   "outputs": [
    {
     "name": "stdout",
     "output_type": "stream",
     "text": [
      "x<0\n"
     ]
    },
    {
     "data": {
      "text/plain": [
       "true"
      ]
     },
     "execution_count": 61,
     "metadata": {},
     "output_type": "execute_result"
    }
   ],
   "source": [
    "#Boolean swithcing\n"
   ]
  },
  {
   "cell_type": "code",
   "execution_count": 62,
   "id": "2e196d3b-bd7a-4843-be2f-8cb95ed1a42b",
   "metadata": {},
   "outputs": [
    {
     "name": "stdout",
     "output_type": "stream",
     "text": [
      "x = 4\n",
      "x = 3\n",
      "x = 2\n",
      "x = 1\n",
      "x = 0\n"
     ]
    }
   ],
   "source": [
    "#while loops\n"
   ]
  },
  {
   "cell_type": "code",
   "execution_count": 63,
   "id": "4b319a77-cc1e-468c-830b-d9cf6573c170",
   "metadata": {},
   "outputs": [
    {
     "name": "stdout",
     "output_type": "stream",
     "text": [
      "x = 6\n",
      "x = 7\n",
      "x = 8\n",
      "x = 9\n",
      "x = 10\n",
      "x = 11\n",
      "x = 12\n",
      "x = 13\n",
      "x = 14\n",
      "x = 15\n",
      "x = 16\n",
      "x = 17\n",
      "x = 18\n",
      "x = 19\n",
      "x = 20\n"
     ]
    }
   ],
   "source": []
  },
  {
   "cell_type": "code",
   "execution_count": 64,
   "id": "440aa185-2d06-49f4-b228-808070462f9c",
   "metadata": {},
   "outputs": [
    {
     "name": "stdout",
     "output_type": "stream",
     "text": [
      "i = 1\n",
      "i = 2\n",
      "i = 3\n",
      "i = 4\n",
      "i = 5\n",
      "i = 6\n",
      "i = 7\n",
      "i = 8\n",
      "i = 9\n",
      "i = 10\n"
     ]
    }
   ],
   "source": [
    "#for loop\n",
    "for i in 1:10\n",
    "   println(\"i = \", i)\n",
    "end"
   ]
  },
  {
   "cell_type": "code",
   "execution_count": 65,
   "id": "84702fba-160d-40cd-9d26-e23f781d1ada",
   "metadata": {},
   "outputs": [
    {
     "name": "stdout",
     "output_type": "stream",
     "text": [
      "1\n",
      "4\n",
      "2\n",
      "5\n",
      "3\n",
      "6\n"
     ]
    }
   ],
   "source": [
    "#iterate over an array\n",
    "Y = [1 2 3; 4 5 6]\n",
    "for i in Y\n",
    "    println(i)\n",
    "end"
   ]
  },
  {
   "cell_type": "code",
   "execution_count": 66,
   "id": "b06113e4-4e63-42ad-a262-1e87a9da976c",
   "metadata": {},
   "outputs": [
    {
     "name": "stdout",
     "output_type": "stream",
     "text": [
      "Tokyo\n",
      "Osaka\n",
      "Nagoya\n"
     ]
    }
   ],
   "source": [
    "Pref = [\"Tokyo\", \"Osaka\", \"Nagoya\"]\n",
    "for i in Pref\n",
    "    println(i)\n",
    "end"
   ]
  },
  {
   "cell_type": "code",
   "execution_count": 67,
   "id": "29ee48d4-8108-4d1d-9564-f887b89e30fc",
   "metadata": {},
   "outputs": [
    {
     "data": {
      "text/plain": [
       "10-element Vector{Any}:\n",
       "   1\n",
       "   4\n",
       "   9\n",
       "  16\n",
       "  25\n",
       "  36\n",
       "  49\n",
       "  64\n",
       "  81\n",
       " 100"
      ]
     },
     "execution_count": 67,
     "metadata": {},
     "output_type": "execute_result"
    }
   ],
   "source": [
    "#list comprehnsions (リスト内包表記)\n"
   ]
  },
  {
   "cell_type": "code",
   "execution_count": 68,
   "id": "13e83256-ac4e-43d7-9450-a34f23f6b2d1",
   "metadata": {},
   "outputs": [
    {
     "data": {
      "text/plain": [
       "10-element Vector{Int64}:\n",
       "   1\n",
       "   4\n",
       "   9\n",
       "  16\n",
       "  25\n",
       "  36\n",
       "  49\n",
       "  64\n",
       "  81\n",
       " 100"
      ]
     },
     "execution_count": 68,
     "metadata": {},
     "output_type": "execute_result"
    }
   ],
   "source": []
  },
  {
   "cell_type": "markdown",
   "id": "84ef8797-6fbb-46d2-bc5c-94eb9900daab",
   "metadata": {},
   "source": [
    "## 3. Composite types (複合型)"
   ]
  },
  {
   "cell_type": "markdown",
   "id": "34116587-c15d-46c9-84fe-6ea3d3784279",
   "metadata": {},
   "source": [
    "参考：https://thomaswiemann.com/Types-and-Multiple-Dispatch-in-Julia"
   ]
  },
  {
   "cell_type": "code",
   "execution_count": 69,
   "id": "68582d2e-b01a-419e-8905-1a595dbe107a",
   "metadata": {},
   "outputs": [],
   "source": [
    "#A composite type is a collection of named fields that can be treated as a single value. "
   ]
  },
  {
   "cell_type": "code",
   "execution_count": 70,
   "id": "fe7b84f4-00a7-40b0-b8f8-efc293b59245",
   "metadata": {},
   "outputs": [],
   "source": []
  },
  {
   "cell_type": "code",
   "execution_count": 71,
   "id": "e9be0088-d490-4aef-95c7-7346ca5e9d7e",
   "metadata": {},
   "outputs": [
    {
     "data": {
      "text/plain": [
       "Parameter(1.1, 2.1, 0.5)"
      ]
     },
     "execution_count": 71,
     "metadata": {},
     "output_type": "execute_result"
    }
   ],
   "source": [
    "p = Parameter(1.1, 2.1, 0.5)"
   ]
  },
  {
   "cell_type": "code",
   "execution_count": 72,
   "id": "c9c8e121-88f9-46cd-aa09-e27cdca13b0c",
   "metadata": {},
   "outputs": [],
   "source": [
    "X = randn(20);"
   ]
  },
  {
   "cell_type": "code",
   "execution_count": 73,
   "id": "51ac00ef-5484-487b-8dbf-2b655d4d0362",
   "metadata": {},
   "outputs": [
    {
     "data": {
      "text/plain": [
       "f (generic function with 2 methods)"
      ]
     },
     "execution_count": 73,
     "metadata": {},
     "output_type": "execute_result"
    }
   ],
   "source": [
    "function f(x,p)\n",
    "    s = 1/length(x) * sum(x*p.α.+p.β)\n",
    "    return s\n",
    "end"
   ]
  },
  {
   "cell_type": "code",
   "execution_count": 74,
   "id": "c4fec50e-f935-4e26-b565-4d42972f3f84",
   "metadata": {},
   "outputs": [
    {
     "data": {
      "text/plain": [
       "1.8275050306151652"
      ]
     },
     "execution_count": 74,
     "metadata": {},
     "output_type": "execute_result"
    }
   ],
   "source": [
    "f(X,p)"
   ]
  },
  {
   "cell_type": "code",
   "execution_count": 75,
   "id": "e2b9158c-9c74-493d-bed1-390603ed2ea8",
   "metadata": {},
   "outputs": [
    {
     "ename": "LoadError",
     "evalue": "setfield!: immutable struct of type Parameter cannot be changed",
     "output_type": "error",
     "traceback": [
      "setfield!: immutable struct of type Parameter cannot be changed",
      "",
      "Stacktrace:",
      " [1] setproperty!(x::Parameter, f::Symbol, v::Int64)",
      "   @ Base .\\Base.jl:39",
      " [2] top-level scope",
      "   @ In[75]:2",
      " [3] eval",
      "   @ .\\boot.jl:368 [inlined]",
      " [4] include_string(mapexpr::typeof(REPL.softscope), mod::Module, code::String, filename::String)",
      "   @ Base .\\loading.jl:1428"
     ]
    }
   ],
   "source": [
    "#Composite objects delared with \"struct\" are immutable.\n",
    "p.α = 1 #error"
   ]
  },
  {
   "cell_type": "code",
   "execution_count": 76,
   "id": "1453c733-6fd7-441b-bb12-d64c68d1ed2b",
   "metadata": {},
   "outputs": [],
   "source": [
    "#mutable composite types\n"
   ]
  },
  {
   "cell_type": "code",
   "execution_count": 77,
   "id": "2f4c013d-3c10-4311-8393-c4feba1379b4",
   "metadata": {},
   "outputs": [
    {
     "data": {
      "text/plain": [
       "Param(2.1, 3.2)"
      ]
     },
     "execution_count": 77,
     "metadata": {},
     "output_type": "execute_result"
    }
   ],
   "source": [
    "param = Param(2.1,3.2)"
   ]
  },
  {
   "cell_type": "code",
   "execution_count": 78,
   "id": "243e300d-5b33-4d6c-b2cc-ed226f490b9a",
   "metadata": {},
   "outputs": [
    {
     "data": {
      "text/plain": [
       "2.1"
      ]
     },
     "execution_count": 78,
     "metadata": {},
     "output_type": "execute_result"
    }
   ],
   "source": [
    "param.θ"
   ]
  },
  {
   "cell_type": "code",
   "execution_count": 79,
   "id": "26258ff5-20a5-4a5f-ad4a-49064685383d",
   "metadata": {},
   "outputs": [
    {
     "data": {
      "text/plain": [
       "1.0"
      ]
     },
     "execution_count": 79,
     "metadata": {},
     "output_type": "execute_result"
    }
   ],
   "source": [
    "param.θ = 1.0 #mutable"
   ]
  },
  {
   "cell_type": "markdown",
   "id": "05600408-037e-4862-9d88-112175d0e18d",
   "metadata": {},
   "source": [
    "## 4. Performance: Write type-stable function"
   ]
  },
  {
   "cell_type": "code",
   "execution_count": 80,
   "id": "f436b2ae-45de-41b6-ac3b-94bd78567934",
   "metadata": {},
   "outputs": [
    {
     "data": {
      "text/plain": [
       "pos_unstable (generic function with 1 method)"
      ]
     },
     "execution_count": 80,
     "metadata": {},
     "output_type": "execute_result"
    }
   ],
   "source": [
    "#This function can return both Int and Float\n",
    "pos_unstable(x) = x < 0 ? 0 : x"
   ]
  },
  {
   "cell_type": "code",
   "execution_count": 81,
   "id": "afc35ee7-17ed-41de-a700-f9d00993dd1b",
   "metadata": {},
   "outputs": [
    {
     "name": "stdout",
     "output_type": "stream",
     "text": [
      "  0.000003 seconds\n",
      "MethodInstance for pos_unstable(::Float64)\n",
      "  from pos_unstable(x) in Main at In[80]:2\n",
      "Arguments\n",
      "  #self#\u001b[36m::Core.Const(pos_unstable)\u001b[39m\n",
      "  x\u001b[36m::Float64\u001b[39m\n",
      "Body\u001b[91m\u001b[1m::Union{Float64, Int64}\u001b[22m\u001b[39m\n",
      "\u001b[90m1 ─\u001b[39m %1 = (x < 0)\u001b[36m::Bool\u001b[39m\n",
      "\u001b[90m└──\u001b[39m      goto #3 if not %1\n",
      "\u001b[90m2 ─\u001b[39m      return 0\n",
      "\u001b[90m3 ─\u001b[39m      return x\n",
      "\n"
     ]
    }
   ],
   "source": [
    "\n",
    "#@code_warntype f(x) gives you the abstract syntax tree (抽象構文木) with extra helpful performance annotations highlighting type instabilities."
   ]
  },
  {
   "cell_type": "code",
   "execution_count": 82,
   "id": "ad796ff2-3e64-431d-bec4-ec9e3a797b49",
   "metadata": {},
   "outputs": [
    {
     "data": {
      "text/plain": [
       "pos_stable (generic function with 1 method)"
      ]
     },
     "execution_count": 82,
     "metadata": {},
     "output_type": "execute_result"
    }
   ],
   "source": [
    "\n",
    "#zero(...) returns the additive identity element in the same type as x "
   ]
  },
  {
   "cell_type": "code",
   "execution_count": 83,
   "id": "a14aa325-76dc-4025-9974-f8ffb06a93fd",
   "metadata": {},
   "outputs": [
    {
     "name": "stdout",
     "output_type": "stream",
     "text": [
      "  0.000003 seconds\n",
      "MethodInstance for pos_stable(::Float64)\n",
      "  from pos_stable(x) in Main at In[82]:1\n",
      "Arguments\n",
      "  #self#\u001b[36m::Core.Const(pos_stable)\u001b[39m\n",
      "  x\u001b[36m::Float64\u001b[39m\n",
      "Body\u001b[36m::Float64\u001b[39m\n",
      "\u001b[90m1 ─\u001b[39m %1 = (x < 0)\u001b[36m::Bool\u001b[39m\n",
      "\u001b[90m└──\u001b[39m      goto #3 if not %1\n",
      "\u001b[90m2 ─\u001b[39m %3 = Main.zero(x)\u001b[36m::Core.Const(0.0)\u001b[39m\n",
      "\u001b[90m└──\u001b[39m      return %3\n",
      "\u001b[90m3 ─\u001b[39m      return x\n",
      "\n"
     ]
    }
   ],
   "source": []
  },
  {
   "cell_type": "code",
   "execution_count": 84,
   "id": "07146345-a9d6-4cbd-8e72-d31b4a0ee5a7",
   "metadata": {},
   "outputs": [],
   "source": [
    "#The type of x needs to be checked in pos (). This makes you lose performance."
   ]
  },
  {
   "cell_type": "code",
   "execution_count": 85,
   "id": "3e0dedb3-0340-41e5-a7c3-25249cc5f7a0",
   "metadata": {},
   "outputs": [],
   "source": [
    "#Another example"
   ]
  },
  {
   "cell_type": "code",
   "execution_count": 86,
   "id": "9540b875-3373-4384-8e28-5bcb48779056",
   "metadata": {},
   "outputs": [
    {
     "data": {
      "text/plain": [
       "sum_unstable (generic function with 1 method)"
      ]
     },
     "execution_count": 86,
     "metadata": {},
     "output_type": "execute_result"
    }
   ],
   "source": [
    "function sum_unstable(x::Integer)\n",
    "    sum = 0::Integer\n",
    "    for i in 1:x\n",
    "        sum += sin(30)\n",
    "    end\n",
    "    return sum\n",
    "end"
   ]
  },
  {
   "cell_type": "code",
   "execution_count": 87,
   "id": "6d4916a5-e979-42a4-bdeb-45502eb84220",
   "metadata": {},
   "outputs": [
    {
     "data": {
      "text/plain": [
       "sum_stable (generic function with 1 method)"
      ]
     },
     "execution_count": 87,
     "metadata": {},
     "output_type": "execute_result"
    }
   ],
   "source": []
  },
  {
   "cell_type": "code",
   "execution_count": 88,
   "id": "6d3758cd-5e50-4e2f-a878-61d6d73eb919",
   "metadata": {},
   "outputs": [
    {
     "name": "stdout",
     "output_type": "stream",
     "text": [
      "  0.000001 seconds\n",
      "MethodInstance for sum_unstable(::Int64)\n",
      "  from sum_unstable(x::Integer) in Main at In[86]:1\n",
      "Arguments\n",
      "  #self#\u001b[36m::Core.Const(sum_unstable)\u001b[39m\n",
      "  x\u001b[36m::Int64\u001b[39m\n",
      "Locals\n",
      "  @_3\u001b[33m\u001b[1m::Union{Nothing, Tuple{Int64, Int64}}\u001b[22m\u001b[39m\n",
      "  sum\u001b[91m\u001b[1m::Union{Float64, Int64}\u001b[22m\u001b[39m\n",
      "  i\u001b[36m::Int64\u001b[39m\n",
      "Body\u001b[91m\u001b[1m::Union{Float64, Int64}\u001b[22m\u001b[39m\n",
      "\u001b[90m1 ─\u001b[39m       (sum = Core.typeassert(0, Main.Integer))\n",
      "\u001b[90m│  \u001b[39m %2  = (1:x)\u001b[36m::Core.PartialStruct(UnitRange{Int64}, Any[Core.Const(1), Int64])\u001b[39m\n",
      "\u001b[90m│  \u001b[39m       (@_3 = Base.iterate(%2))\n",
      "\u001b[90m│  \u001b[39m %4  = (@_3 === nothing)\u001b[36m::Bool\u001b[39m\n",
      "\u001b[90m│  \u001b[39m %5  = Base.not_int(%4)\u001b[36m::Bool\u001b[39m\n",
      "\u001b[90m└──\u001b[39m       goto #4 if not %5\n",
      "\u001b[90m2 ┄\u001b[39m %7  = @_3\u001b[36m::Tuple{Int64, Int64}\u001b[39m\n",
      "\u001b[90m│  \u001b[39m       (i = Core.getfield(%7, 1))\n",
      "\u001b[90m│  \u001b[39m %9  = Core.getfield(%7, 2)\u001b[36m::Int64\u001b[39m\n",
      "\u001b[90m│  \u001b[39m %10 = sum\u001b[91m\u001b[1m::Union{Float64, Int64}\u001b[22m\u001b[39m\n",
      "\u001b[90m│  \u001b[39m %11 = Main.sin(30)\u001b[36m::Core.Const(-0.9880316240928618)\u001b[39m\n",
      "\u001b[90m│  \u001b[39m       (sum = %10 + %11)\n",
      "\u001b[90m│  \u001b[39m       (@_3 = Base.iterate(%2, %9))\n",
      "\u001b[90m│  \u001b[39m %14 = (@_3 === nothing)\u001b[36m::Bool\u001b[39m\n",
      "\u001b[90m│  \u001b[39m %15 = Base.not_int(%14)\u001b[36m::Bool\u001b[39m\n",
      "\u001b[90m└──\u001b[39m       goto #4 if not %15\n",
      "\u001b[90m3 ─\u001b[39m       goto #2\n",
      "\u001b[90m4 ┄\u001b[39m       return sum\n",
      "\n"
     ]
    }
   ],
   "source": [
    "@time sum_unstable(100)\n",
    "@code_warntype sum_unstable(100)"
   ]
  },
  {
   "cell_type": "code",
   "execution_count": 89,
   "id": "f0009995-f7c7-460f-bbbf-0c21e9579fb5",
   "metadata": {},
   "outputs": [
    {
     "name": "stdout",
     "output_type": "stream",
     "text": [
      "  0.000003 seconds\n",
      "MethodInstance for sum_stable(::Int64)\n",
      "  from sum_stable(x::Integer) in Main at In[87]:1\n",
      "Arguments\n",
      "  #self#\u001b[36m::Core.Const(sum_stable)\u001b[39m\n",
      "  x\u001b[36m::Int64\u001b[39m\n",
      "Locals\n",
      "  @_3\u001b[33m\u001b[1m::Union{Nothing, Tuple{Int64, Int64}}\u001b[22m\u001b[39m\n",
      "  sum\u001b[36m::Float64\u001b[39m\n",
      "  i\u001b[36m::Int64\u001b[39m\n",
      "Body\u001b[36m::Float64\u001b[39m\n",
      "\u001b[90m1 ─\u001b[39m       (sum = Core.typeassert(0.0, Main.Float64))\n",
      "\u001b[90m│  \u001b[39m %2  = (1:x)\u001b[36m::Core.PartialStruct(UnitRange{Int64}, Any[Core.Const(1), Int64])\u001b[39m\n",
      "\u001b[90m│  \u001b[39m       (@_3 = Base.iterate(%2))\n",
      "\u001b[90m│  \u001b[39m %4  = (@_3 === nothing)\u001b[36m::Bool\u001b[39m\n",
      "\u001b[90m│  \u001b[39m %5  = Base.not_int(%4)\u001b[36m::Bool\u001b[39m\n",
      "\u001b[90m└──\u001b[39m       goto #4 if not %5\n",
      "\u001b[90m2 ┄\u001b[39m %7  = @_3\u001b[36m::Tuple{Int64, Int64}\u001b[39m\n",
      "\u001b[90m│  \u001b[39m       (i = Core.getfield(%7, 1))\n",
      "\u001b[90m│  \u001b[39m %9  = Core.getfield(%7, 2)\u001b[36m::Int64\u001b[39m\n",
      "\u001b[90m│  \u001b[39m %10 = sum\u001b[36m::Float64\u001b[39m\n",
      "\u001b[90m│  \u001b[39m %11 = Main.sin(30)\u001b[36m::Core.Const(-0.9880316240928618)\u001b[39m\n",
      "\u001b[90m│  \u001b[39m       (sum = %10 + %11)\n",
      "\u001b[90m│  \u001b[39m       (@_3 = Base.iterate(%2, %9))\n",
      "\u001b[90m│  \u001b[39m %14 = (@_3 === nothing)\u001b[36m::Bool\u001b[39m\n",
      "\u001b[90m│  \u001b[39m %15 = Base.not_int(%14)\u001b[36m::Bool\u001b[39m\n",
      "\u001b[90m└──\u001b[39m       goto #4 if not %15\n",
      "\u001b[90m3 ─\u001b[39m       goto #2\n",
      "\u001b[90m4 ┄\u001b[39m       return sum\n",
      "\n"
     ]
    }
   ],
   "source": [
    "@time sum_stable(100)\n",
    "@code_warntype sum_stable(100)"
   ]
  },
  {
   "cell_type": "code",
   "execution_count": 90,
   "id": "e23e6a83-19fc-44b0-9527-5d5a5e0058d7",
   "metadata": {},
   "outputs": [],
   "source": [
    "# In \"sum_stable\", the compiler is guaranteed that sum is type Float64, thus it saves time and memory. \n",
    "# However, in \"sum_unstable\", the compiler must check the type of sum at each iteration of the loop.\n",
    "# This makes you lose performance."
   ]
  },
  {
   "cell_type": "markdown",
   "id": "db4beee0-b351-4fd8-81bb-d241243703b4",
   "metadata": {},
   "source": [
    "## 4. Multiple dispatch"
   ]
  },
  {
   "cell_type": "markdown",
   "id": "c6605500-a912-4eb4-8a5c-e0f09a701170",
   "metadata": {},
   "source": [
    "You can define a function with multiple associate methods, each one for a different combination of argument types."
   ]
  },
  {
   "cell_type": "code",
   "execution_count": 116,
   "id": "e67f6e6c-f1d1-44bb-8456-d3c1ac444f4f",
   "metadata": {},
   "outputs": [
    {
     "data": {
      "text/plain": [
       "f (generic function with 2 methods)"
      ]
     },
     "execution_count": 116,
     "metadata": {},
     "output_type": "execute_result"
    }
   ],
   "source": [
    "#Example 1\n",
    "f(x) = 2x^4"
   ]
  },
  {
   "cell_type": "code",
   "execution_count": 120,
   "id": "c8d370b3-23a5-492a-9e67-e691a02a3dae",
   "metadata": {},
   "outputs": [
    {
     "data": {
      "text/plain": [
       "2-element Vector{Int64}:\n",
       "  2\n",
       " 32"
      ]
     },
     "execution_count": 120,
     "metadata": {},
     "output_type": "execute_result"
    }
   ],
   "source": [
    "f(2)\n",
    "f(2.1)\n",
    "f.([1,2])"
   ]
  },
  {
   "cell_type": "markdown",
   "id": "f292d778-672c-4b8f-b151-17be4b7902c5",
   "metadata": {},
   "source": [
    "#### This function has multiple methods depending on the types of the argument(integers, floats, complex numbers, or matrices).\n",
    "#### Julia uses multiple dispatch to decide which method of a fuction to execute (i.e. dispatch) when the fuction is called using argument types."
   ]
  },
  {
   "cell_type": "code",
   "execution_count": 122,
   "id": "8429f262-c832-4c56-aa11-c5f9e2a64e73",
   "metadata": {},
   "outputs": [
    {
     "data": {
      "text/plain": [
       "print_type (generic function with 1 method)"
      ]
     },
     "execution_count": 122,
     "metadata": {},
     "output_type": "execute_result"
    }
   ],
   "source": [
    "#Define one method of a function print_type\n",
    "function print_type(x::Int)\n",
    "    println(\"$x is an Int\")\n",
    "end"
   ]
  },
  {
   "cell_type": "code",
   "execution_count": 123,
   "id": "5e337bcc-c2b9-4b0c-82c7-feaadaae01f8",
   "metadata": {},
   "outputs": [
    {
     "data": {
      "text/plain": [
       "print_type (generic function with 2 methods)"
      ]
     },
     "execution_count": 123,
     "metadata": {},
     "output_type": "execute_result"
    }
   ],
   "source": [
    "#Define another method of the same function\n",
    "function print_type(x::Float64)\n",
    "    println(\"$x is a Float\")\n",
    "end"
   ]
  },
  {
   "cell_type": "code",
   "execution_count": 124,
   "id": "8b96c351-832e-4bf5-b290-535cc6fc8f02",
   "metadata": {},
   "outputs": [
    {
     "data": {
      "text/plain": [
       "print_type (generic function with 3 methods)"
      ]
     },
     "execution_count": 124,
     "metadata": {},
     "output_type": "execute_result"
    }
   ],
   "source": [
    "#Define yet another method of the fuction\n",
    "function print_type(x::String)\n",
    "    println(\"$x is a String\")\n",
    "end"
   ]
  },
  {
   "cell_type": "code",
   "execution_count": 125,
   "id": "b6e17dbc-4897-4a4a-b7b6-4676d43c2885",
   "metadata": {},
   "outputs": [
    {
     "data": {
      "text/html": [
       "# 3 methods for generic function <b>print_type</b>:<ul><li> print_type(x::<b>Int64</b>) in Main at In[122]:2</li> <li> print_type(x::<b>Float64</b>) in Main at In[123]:2</li> <li> print_type(x::<b>String</b>) in Main at In[124]:2</li> </ul>"
      ],
      "text/plain": [
       "# 3 methods for generic function \"print_type\":\n",
       "[1] print_type(x::Int64) in Main at In[122]:2\n",
       "[2] print_type(x::Float64) in Main at In[123]:2\n",
       "[3] print_type(x::String) in Main at In[124]:2"
      ]
     },
     "execution_count": 125,
     "metadata": {},
     "output_type": "execute_result"
    }
   ],
   "source": [
    "#See all methods\n",
    "methods(print_type)"
   ]
  },
  {
   "cell_type": "code",
   "execution_count": 126,
   "id": "5fae14db-5fe7-4c22-a027-78c80b62c3cf",
   "metadata": {},
   "outputs": [
    {
     "name": "stdout",
     "output_type": "stream",
     "text": [
      "1 is an Int\n"
     ]
    }
   ],
   "source": [
    "print_type(1)"
   ]
  },
  {
   "cell_type": "code",
   "execution_count": 129,
   "id": "dbbbc586-2855-4cbc-ae26-65a4c1ed0c15",
   "metadata": {},
   "outputs": [
    {
     "name": "stdout",
     "output_type": "stream",
     "text": [
      "1.0 is a Float\n"
     ]
    }
   ],
   "source": [
    "print_type(1.0)"
   ]
  },
  {
   "cell_type": "code",
   "execution_count": 128,
   "id": "d6328f8b-322a-45c4-8571-918c8ef30308",
   "metadata": {},
   "outputs": [
    {
     "name": "stdout",
     "output_type": "stream",
     "text": [
      "1 is a String\n"
     ]
    }
   ],
   "source": [
    "print_type(\"1\")"
   ]
  },
  {
   "cell_type": "code",
   "execution_count": null,
   "id": "d29a089e-61fa-4ae4-a1a0-815f93c29a04",
   "metadata": {},
   "outputs": [],
   "source": []
  },
  {
   "cell_type": "code",
   "execution_count": null,
   "id": "57096263-c6e0-4127-83a1-9c5f83512c16",
   "metadata": {},
   "outputs": [],
   "source": []
  },
  {
   "cell_type": "markdown",
   "id": "8035af40-9303-49e7-9236-f3b6ba9cfe4d",
   "metadata": {},
   "source": [
    "## 5. Exercises"
   ]
  },
  {
   "cell_type": "markdown",
   "id": "552fa433-2ff6-42f0-85c4-915da2b1b508",
   "metadata": {},
   "source": [
    "#### $\\mathit{Q}$-1. Write a function to count the number 4 in a given list."
   ]
  },
  {
   "cell_type": "code",
   "execution_count": 110,
   "id": "a7799a25-b2d3-45e3-b82b-e95e3de4a4b6",
   "metadata": {},
   "outputs": [
    {
     "data": {
      "text/plain": [
       "L (generic function with 1 method)"
      ]
     },
     "execution_count": 110,
     "metadata": {},
     "output_type": "execute_result"
    }
   ],
   "source": []
  },
  {
   "cell_type": "code",
   "execution_count": 112,
   "id": "b941fe23-e3c8-47d0-9b56-98b4a5d7549c",
   "metadata": {},
   "outputs": [
    {
     "data": {
      "text/plain": [
       "2"
      ]
     },
     "execution_count": 112,
     "metadata": {},
     "output_type": "execute_result"
    }
   ],
   "source": []
  },
  {
   "cell_type": "code",
   "execution_count": null,
   "id": "a3e51b4b-390c-4c0f-ad50-4127b15b869d",
   "metadata": {},
   "outputs": [],
   "source": []
  },
  {
   "cell_type": "markdown",
   "id": "622bed84-94ec-4e5a-9a46-7bd0adaa5ef3",
   "metadata": {},
   "source": [
    "#### $\\mathit{Q}$-2. Consider the polynominal $p(x)=\\sum_{i=0}^n \\alpha_i x^i$. Using `enumerate()` in your loop, write a function $p(x)$ such that $p(x, \\alpha)$ computes the value given $x$ and an array of coefficients $\\alpha=(\\alpha_{0},\\alpha_{1},...,\\alpha_{n})$."
   ]
  },
  {
   "cell_type": "code",
   "execution_count": 91,
   "id": "37b537b7-48d7-4f4b-ab19-75a099990e9c",
   "metadata": {},
   "outputs": [
    {
     "name": "stdout",
     "output_type": "stream",
     "text": [
      "1:2\n",
      "2:4\n",
      "3:6\n",
      "4:8\n",
      "5:10\n",
      "6:12\n",
      "7:14\n",
      "8:16\n",
      "9:18\n",
      "10:20\n"
     ]
    }
   ],
   "source": [
    "#Example of enumerate\n",
    "α = [2,4,6,8,10,12,14,16,18,20]\n",
    "for (index, value) in enumerate(α)\n",
    "    println(index, \":\", value)\n",
    "end"
   ]
  },
  {
   "cell_type": "code",
   "execution_count": 92,
   "id": "dbcaee97-eace-45a0-8cc7-b6a6b843e035",
   "metadata": {},
   "outputs": [
    {
     "data": {
      "text/plain": [
       "f (generic function with 2 methods)"
      ]
     },
     "execution_count": 92,
     "metadata": {},
     "output_type": "execute_result"
    }
   ],
   "source": [
    "#Solution 1\n"
   ]
  },
  {
   "cell_type": "code",
   "execution_count": 93,
   "id": "99467c8d-8e49-445b-9ec7-a1fb46850e00",
   "metadata": {},
   "outputs": [
    {
     "name": "stdout",
     "output_type": "stream",
     "text": [
      "2\n",
      "10\n",
      "34\n",
      "98\n",
      "258\n",
      "642\n",
      "1538\n",
      "3586\n",
      "8194\n",
      "18434\n"
     ]
    },
    {
     "data": {
      "text/plain": [
       "18434"
      ]
     },
     "execution_count": 93,
     "metadata": {},
     "output_type": "execute_result"
    }
   ],
   "source": []
  },
  {
   "cell_type": "code",
   "execution_count": 94,
   "id": "1665b5e7-53cf-44eb-8bc0-21b5244bbb7b",
   "metadata": {},
   "outputs": [
    {
     "data": {
      "text/plain": [
       "18434"
      ]
     },
     "execution_count": 94,
     "metadata": {},
     "output_type": "execute_result"
    }
   ],
   "source": [
    "# Solution 2\n"
   ]
  },
  {
   "cell_type": "code",
   "execution_count": null,
   "id": "078e0a5a-7985-46ad-9617-65b7ffc2662d",
   "metadata": {},
   "outputs": [],
   "source": []
  },
  {
   "cell_type": "markdown",
   "id": "49998ad2-f9af-4e92-8276-58b636dbdcdb",
   "metadata": {},
   "source": [
    "#### $\\mathit{Q}$-3. Piecewise linear interpolation (区分線形補間)\n",
    "\n",
    "#### The Julia libraries include functions for interpolation and approximation. \n",
    "\n",
    "#### Nevertheless, let’s write our own function approximation routine as an exercise. \n",
    "\n",
    "#### In particular, write a function `linapprox` that takes as arguments \n",
    "\n",
    "#### $\\cdot$ A function `f` mapping some interval $[a,b]$ into $\\mathbb{R}$\n",
    "\n",
    "#### $\\cdot$ two scalars `a` and `b` providing the limits of this interval.\n",
    "\n",
    "#### $\\cdot$ An integer `n` determining the number of grid points.\n",
    "\n",
    "#### $\\cdot$ A number `x` satisfying `a ≤ x ≤ b`.\n",
    "\n",
    "#### and returns the piecewise linear interpolation of `f` at `x`, based on `n` evenly spaced grid points `a = point[1] < point[2] < ... < point[n] = b`.\n",
    "\n",
    "#### Aim for clarity, not efficiency.\n",
    "\n",
    "#### Hint: use the function `range` to linearly space numbers."
   ]
  },
  {
   "cell_type": "code",
   "execution_count": 95,
   "id": "19d5c8f5-b844-4bb0-9237-5b89d7197847",
   "metadata": {},
   "outputs": [
    {
     "data": {
      "text/plain": [
       "0.0:5.0:10.0"
      ]
     },
     "execution_count": 95,
     "metadata": {},
     "output_type": "execute_result"
    }
   ],
   "source": [
    "#Example of \"range\"\n",
    "range(0, 10, length=11)\n",
    "range(0,10,length=3)\n",
    "# The function \"range\" divides the difference between the start and stop equally."
   ]
  },
  {
   "cell_type": "markdown",
   "id": "5fdb1947-b754-4927-bd3e-f1349513bbb4",
   "metadata": {},
   "source": [
    "#### _Hint_\n",
    "Piecewise linear interpolation simply connects two adjacent dots by a straight line. \n",
    "\n",
    "Assume that the nodes are given in order, so that $x_0<x_1<...<x_n$. Between each pair of adjacent nodes, the interpolant function $p(x)$, which approximates a fuction $f(x)$ through each node, is given by\n",
    "\n",
    "$$p(x) = f(x_k) + \\frac{f(x_{k+1})-f(x_{k})}{x_{k+1}-x_{k}}(x-x_k), \\quad\\text{for $x\\in[x_{k},x_{k+1}]$}.$$\n"
   ]
  },
  {
   "cell_type": "code",
   "execution_count": 96,
   "id": "699016af-8036-4523-b676-7598eb590587",
   "metadata": {},
   "outputs": [
    {
     "data": {
      "text/plain": [
       "linapprox (generic function with 1 method)"
      ]
     },
     "execution_count": 96,
     "metadata": {},
     "output_type": "execute_result"
    }
   ],
   "source": []
  },
  {
   "cell_type": "code",
   "execution_count": 97,
   "id": "7fd69f33-344c-46ef-bed4-b74fa98cc472",
   "metadata": {},
   "outputs": [
    {
     "data": {
      "text/plain": [
       "f (generic function with 2 methods)"
      ]
     },
     "execution_count": 97,
     "metadata": {},
     "output_type": "execute_result"
    }
   ],
   "source": [
    "#creat a function \"f\"\n"
   ]
  },
  {
   "cell_type": "code",
   "execution_count": 98,
   "id": "9abc3cb6-d672-48a2-b4fc-6def97d43d1e",
   "metadata": {},
   "outputs": [],
   "source": [
    "a = 0\n",
    "b = 10\n",
    "n = 3\n",
    "lin_result = linapprox(f,a,b,n);"
   ]
  },
  {
   "cell_type": "code",
   "execution_count": 99,
   "id": "49265952-5435-4ebf-943e-362eb0d01ada",
   "metadata": {},
   "outputs": [],
   "source": [
    "using Plots"
   ]
  },
  {
   "cell_type": "code",
   "execution_count": 100,
   "id": "dee7bd5a-8fbd-4add-9b68-a625d29af0ab",
   "metadata": {},
   "outputs": [
    {
     "data": {
      "image/svg+xml": [
       "<?xml version=\"1.0\" encoding=\"utf-8\"?>\n",
       "<svg xmlns=\"http://www.w3.org/2000/svg\" xmlns:xlink=\"http://www.w3.org/1999/xlink\" width=\"700\" height=\"400\" viewBox=\"0 0 2800 1600\">\n",
       "<defs>\n",
       "  <clipPath id=\"clip440\">\n",
       "    <rect x=\"0\" y=\"0\" width=\"2800\" height=\"1600\"/>\n",
       "  </clipPath>\n",
       "</defs>\n",
       "<path clip-path=\"url(#clip440)\" d=\"\n",
       "M0 1600 L2800 1600 L2800 0 L0 0  Z\n",
       "  \" fill=\"#ffffff\" fill-rule=\"evenodd\" fill-opacity=\"1\"/>\n",
       "<defs>\n",
       "  <clipPath id=\"clip441\">\n",
       "    <rect x=\"560\" y=\"0\" width=\"1961\" height=\"1600\"/>\n",
       "  </clipPath>\n",
       "</defs>\n",
       "<path clip-path=\"url(#clip440)\" d=\"\n",
       "M366.915 1434.91 L2752.76 1434.91 L2752.76 114.832 L366.915 114.832  Z\n",
       "  \" fill=\"#ffffff\" fill-rule=\"evenodd\" fill-opacity=\"1\"/>\n",
       "<defs>\n",
       "  <clipPath id=\"clip442\">\n",
       "    <rect x=\"366\" y=\"114\" width=\"2387\" height=\"1321\"/>\n",
       "  </clipPath>\n",
       "</defs>\n",
       "<polyline clip-path=\"url(#clip442)\" style=\"stroke:#000000; stroke-linecap:round; stroke-linejoin:round; stroke-width:2; stroke-opacity:0.1; fill:none\" points=\"\n",
       "  434.439,1434.91 434.439,114.832 \n",
       "  \"/>\n",
       "<polyline clip-path=\"url(#clip442)\" style=\"stroke:#000000; stroke-linecap:round; stroke-linejoin:round; stroke-width:2; stroke-opacity:0.1; fill:none\" points=\"\n",
       "  997.137,1434.91 997.137,114.832 \n",
       "  \"/>\n",
       "<polyline clip-path=\"url(#clip442)\" style=\"stroke:#000000; stroke-linecap:round; stroke-linejoin:round; stroke-width:2; stroke-opacity:0.1; fill:none\" points=\"\n",
       "  1559.84,1434.91 1559.84,114.832 \n",
       "  \"/>\n",
       "<polyline clip-path=\"url(#clip442)\" style=\"stroke:#000000; stroke-linecap:round; stroke-linejoin:round; stroke-width:2; stroke-opacity:0.1; fill:none\" points=\"\n",
       "  2122.53,1434.91 2122.53,114.832 \n",
       "  \"/>\n",
       "<polyline clip-path=\"url(#clip442)\" style=\"stroke:#000000; stroke-linecap:round; stroke-linejoin:round; stroke-width:2; stroke-opacity:0.1; fill:none\" points=\"\n",
       "  2685.23,1434.91 2685.23,114.832 \n",
       "  \"/>\n",
       "<polyline clip-path=\"url(#clip440)\" style=\"stroke:#000000; stroke-linecap:round; stroke-linejoin:round; stroke-width:4; stroke-opacity:1; fill:none\" points=\"\n",
       "  366.915,1434.91 2752.76,1434.91 \n",
       "  \"/>\n",
       "<polyline clip-path=\"url(#clip440)\" style=\"stroke:#000000; stroke-linecap:round; stroke-linejoin:round; stroke-width:4; stroke-opacity:1; fill:none\" points=\"\n",
       "  434.439,1434.91 434.439,1416.01 \n",
       "  \"/>\n",
       "<polyline clip-path=\"url(#clip440)\" style=\"stroke:#000000; stroke-linecap:round; stroke-linejoin:round; stroke-width:4; stroke-opacity:1; fill:none\" points=\"\n",
       "  997.137,1434.91 997.137,1416.01 \n",
       "  \"/>\n",
       "<polyline clip-path=\"url(#clip440)\" style=\"stroke:#000000; stroke-linecap:round; stroke-linejoin:round; stroke-width:4; stroke-opacity:1; fill:none\" points=\"\n",
       "  1559.84,1434.91 1559.84,1416.01 \n",
       "  \"/>\n",
       "<polyline clip-path=\"url(#clip440)\" style=\"stroke:#000000; stroke-linecap:round; stroke-linejoin:round; stroke-width:4; stroke-opacity:1; fill:none\" points=\"\n",
       "  2122.53,1434.91 2122.53,1416.01 \n",
       "  \"/>\n",
       "<polyline clip-path=\"url(#clip440)\" style=\"stroke:#000000; stroke-linecap:round; stroke-linejoin:round; stroke-width:4; stroke-opacity:1; fill:none\" points=\"\n",
       "  2685.23,1434.91 2685.23,1416.01 \n",
       "  \"/>\n",
       "<path clip-path=\"url(#clip440)\" d=\"M411.823 1469.02 Q408.212 1469.02 406.383 1472.59 Q404.578 1476.13 404.578 1483.26 Q404.578 1490.37 406.383 1493.93 Q408.212 1497.47 411.823 1497.47 Q415.457 1497.47 417.263 1493.93 Q419.092 1490.37 419.092 1483.26 Q419.092 1476.13 417.263 1472.59 Q415.457 1469.02 411.823 1469.02 M411.823 1465.32 Q417.633 1465.32 420.689 1469.93 Q423.767 1474.51 423.767 1483.26 Q423.767 1491.99 420.689 1496.59 Q417.633 1501.18 411.823 1501.18 Q406.013 1501.18 402.934 1496.59 Q399.879 1491.99 399.879 1483.26 Q399.879 1474.51 402.934 1469.93 Q406.013 1465.32 411.823 1465.32 Z\" fill=\"#000000\" fill-rule=\"evenodd\" fill-opacity=\"1\" /><path clip-path=\"url(#clip440)\" d=\"M431.985 1494.63 L436.869 1494.63 L436.869 1500.51 L431.985 1500.51 L431.985 1494.63 Z\" fill=\"#000000\" fill-rule=\"evenodd\" fill-opacity=\"1\" /><path clip-path=\"url(#clip440)\" d=\"M457.054 1469.02 Q453.443 1469.02 451.614 1472.59 Q449.809 1476.13 449.809 1483.26 Q449.809 1490.37 451.614 1493.93 Q453.443 1497.47 457.054 1497.47 Q460.689 1497.47 462.494 1493.93 Q464.323 1490.37 464.323 1483.26 Q464.323 1476.13 462.494 1472.59 Q460.689 1469.02 457.054 1469.02 M457.054 1465.32 Q462.864 1465.32 465.92 1469.93 Q468.999 1474.51 468.999 1483.26 Q468.999 1491.99 465.92 1496.59 Q462.864 1501.18 457.054 1501.18 Q451.244 1501.18 448.165 1496.59 Q445.11 1491.99 445.11 1483.26 Q445.11 1474.51 448.165 1469.93 Q451.244 1465.32 457.054 1465.32 Z\" fill=\"#000000\" fill-rule=\"evenodd\" fill-opacity=\"1\" /><path clip-path=\"url(#clip440)\" d=\"M968.873 1496.57 L985.193 1496.57 L985.193 1500.51 L963.248 1500.51 L963.248 1496.57 Q965.91 1493.82 970.494 1489.19 Q975.1 1484.53 976.281 1483.19 Q978.526 1480.67 979.406 1478.93 Q980.308 1477.17 980.308 1475.48 Q980.308 1472.73 978.364 1470.99 Q976.443 1469.26 973.341 1469.26 Q971.142 1469.26 968.688 1470.02 Q966.258 1470.78 963.48 1472.33 L963.48 1467.61 Q966.304 1466.48 968.758 1465.9 Q971.211 1465.32 973.248 1465.32 Q978.619 1465.32 981.813 1468.01 Q985.007 1470.69 985.007 1475.18 Q985.007 1477.31 984.197 1479.23 Q983.41 1481.13 981.304 1483.72 Q980.725 1484.39 977.623 1487.61 Q974.521 1490.81 968.873 1496.57 Z\" fill=\"#000000\" fill-rule=\"evenodd\" fill-opacity=\"1\" /><path clip-path=\"url(#clip440)\" d=\"M995.007 1494.63 L999.892 1494.63 L999.892 1500.51 L995.007 1500.51 L995.007 1494.63 Z\" fill=\"#000000\" fill-rule=\"evenodd\" fill-opacity=\"1\" /><path clip-path=\"url(#clip440)\" d=\"M1010.12 1465.95 L1028.48 1465.95 L1028.48 1469.88 L1014.41 1469.88 L1014.41 1478.35 Q1015.42 1478.01 1016.44 1477.84 Q1017.46 1477.66 1018.48 1477.66 Q1024.27 1477.66 1027.65 1480.83 Q1031.03 1484 1031.03 1489.42 Q1031.03 1495 1027.55 1498.1 Q1024.08 1501.18 1017.76 1501.18 Q1015.59 1501.18 1013.32 1500.81 Q1011.07 1500.44 1008.66 1499.7 L1008.66 1495 Q1010.75 1496.13 1012.97 1496.69 Q1015.19 1497.24 1017.67 1497.24 Q1021.67 1497.24 1024.01 1495.14 Q1026.35 1493.03 1026.35 1489.42 Q1026.35 1485.81 1024.01 1483.7 Q1021.67 1481.59 1017.67 1481.59 Q1015.79 1481.59 1013.92 1482.01 Q1012.07 1482.43 1010.12 1483.31 L1010.12 1465.95 Z\" fill=\"#000000\" fill-rule=\"evenodd\" fill-opacity=\"1\" /><path clip-path=\"url(#clip440)\" d=\"M1527 1465.95 L1545.36 1465.95 L1545.36 1469.88 L1531.28 1469.88 L1531.28 1478.35 Q1532.3 1478.01 1533.32 1477.84 Q1534.34 1477.66 1535.36 1477.66 Q1541.14 1477.66 1544.52 1480.83 Q1547.9 1484 1547.9 1489.42 Q1547.9 1495 1544.43 1498.1 Q1540.96 1501.18 1534.64 1501.18 Q1532.46 1501.18 1530.19 1500.81 Q1527.95 1500.44 1525.54 1499.7 L1525.54 1495 Q1527.62 1496.13 1529.85 1496.69 Q1532.07 1497.24 1534.55 1497.24 Q1538.55 1497.24 1540.89 1495.14 Q1543.23 1493.03 1543.23 1489.42 Q1543.23 1485.81 1540.89 1483.7 Q1538.55 1481.59 1534.55 1481.59 Q1532.67 1481.59 1530.8 1482.01 Q1528.94 1482.43 1527 1483.31 L1527 1465.95 Z\" fill=\"#000000\" fill-rule=\"evenodd\" fill-opacity=\"1\" /><path clip-path=\"url(#clip440)\" d=\"M1557.12 1494.63 L1562 1494.63 L1562 1500.51 L1557.12 1500.51 L1557.12 1494.63 Z\" fill=\"#000000\" fill-rule=\"evenodd\" fill-opacity=\"1\" /><path clip-path=\"url(#clip440)\" d=\"M1582.18 1469.02 Q1578.57 1469.02 1576.75 1472.59 Q1574.94 1476.13 1574.94 1483.26 Q1574.94 1490.37 1576.75 1493.93 Q1578.57 1497.47 1582.18 1497.47 Q1585.82 1497.47 1587.62 1493.93 Q1589.45 1490.37 1589.45 1483.26 Q1589.45 1476.13 1587.62 1472.59 Q1585.82 1469.02 1582.18 1469.02 M1582.18 1465.32 Q1587.99 1465.32 1591.05 1469.93 Q1594.13 1474.51 1594.13 1483.26 Q1594.13 1491.99 1591.05 1496.59 Q1587.99 1501.18 1582.18 1501.18 Q1576.37 1501.18 1573.3 1496.59 Q1570.24 1491.99 1570.24 1483.26 Q1570.24 1474.51 1573.3 1469.93 Q1576.37 1465.32 1582.18 1465.32 Z\" fill=\"#000000\" fill-rule=\"evenodd\" fill-opacity=\"1\" /><path clip-path=\"url(#clip440)\" d=\"M2088.85 1465.95 L2111.08 1465.95 L2111.08 1467.94 L2098.53 1500.51 L2093.65 1500.51 L2105.45 1469.88 L2088.85 1469.88 L2088.85 1465.95 Z\" fill=\"#000000\" fill-rule=\"evenodd\" fill-opacity=\"1\" /><path clip-path=\"url(#clip440)\" d=\"M2120.2 1494.63 L2125.08 1494.63 L2125.08 1500.51 L2120.2 1500.51 L2120.2 1494.63 Z\" fill=\"#000000\" fill-rule=\"evenodd\" fill-opacity=\"1\" /><path clip-path=\"url(#clip440)\" d=\"M2135.31 1465.95 L2153.67 1465.95 L2153.67 1469.88 L2139.59 1469.88 L2139.59 1478.35 Q2140.61 1478.01 2141.63 1477.84 Q2142.65 1477.66 2143.67 1477.66 Q2149.45 1477.66 2152.83 1480.83 Q2156.21 1484 2156.21 1489.42 Q2156.21 1495 2152.74 1498.1 Q2149.27 1501.18 2142.95 1501.18 Q2140.77 1501.18 2138.51 1500.81 Q2136.26 1500.44 2133.85 1499.7 L2133.85 1495 Q2135.94 1496.13 2138.16 1496.69 Q2140.38 1497.24 2142.86 1497.24 Q2146.86 1497.24 2149.2 1495.14 Q2151.54 1493.03 2151.54 1489.42 Q2151.54 1485.81 2149.2 1483.7 Q2146.86 1481.59 2142.86 1481.59 Q2140.98 1481.59 2139.11 1482.01 Q2137.26 1482.43 2135.31 1483.31 L2135.31 1465.95 Z\" fill=\"#000000\" fill-rule=\"evenodd\" fill-opacity=\"1\" /><path clip-path=\"url(#clip440)\" d=\"M2637.3 1496.57 L2644.94 1496.57 L2644.94 1470.2 L2636.63 1471.87 L2636.63 1467.61 L2644.9 1465.95 L2649.57 1465.95 L2649.57 1496.57 L2657.21 1496.57 L2657.21 1500.51 L2637.3 1500.51 L2637.3 1496.57 Z\" fill=\"#000000\" fill-rule=\"evenodd\" fill-opacity=\"1\" /><path clip-path=\"url(#clip440)\" d=\"M2676.66 1469.02 Q2673.04 1469.02 2671.22 1472.59 Q2669.41 1476.13 2669.41 1483.26 Q2669.41 1490.37 2671.22 1493.93 Q2673.04 1497.47 2676.66 1497.47 Q2680.29 1497.47 2682.1 1493.93 Q2683.92 1490.37 2683.92 1483.26 Q2683.92 1476.13 2682.1 1472.59 Q2680.29 1469.02 2676.66 1469.02 M2676.66 1465.32 Q2682.47 1465.32 2685.52 1469.93 Q2688.6 1474.51 2688.6 1483.26 Q2688.6 1491.99 2685.52 1496.59 Q2682.47 1501.18 2676.66 1501.18 Q2670.85 1501.18 2667.77 1496.59 Q2664.71 1491.99 2664.71 1483.26 Q2664.71 1474.51 2667.77 1469.93 Q2670.85 1465.32 2676.66 1465.32 Z\" fill=\"#000000\" fill-rule=\"evenodd\" fill-opacity=\"1\" /><path clip-path=\"url(#clip440)\" d=\"M2696.82 1494.63 L2701.7 1494.63 L2701.7 1500.51 L2696.82 1500.51 L2696.82 1494.63 Z\" fill=\"#000000\" fill-rule=\"evenodd\" fill-opacity=\"1\" /><path clip-path=\"url(#clip440)\" d=\"M2721.89 1469.02 Q2718.28 1469.02 2716.45 1472.59 Q2714.64 1476.13 2714.64 1483.26 Q2714.64 1490.37 2716.45 1493.93 Q2718.28 1497.47 2721.89 1497.47 Q2725.52 1497.47 2727.33 1493.93 Q2729.16 1490.37 2729.16 1483.26 Q2729.16 1476.13 2727.33 1472.59 Q2725.52 1469.02 2721.89 1469.02 M2721.89 1465.32 Q2727.7 1465.32 2730.75 1469.93 Q2733.83 1474.51 2733.83 1483.26 Q2733.83 1491.99 2730.75 1496.59 Q2727.7 1501.18 2721.89 1501.18 Q2716.08 1501.18 2713 1496.59 Q2709.94 1491.99 2709.94 1483.26 Q2709.94 1474.51 2713 1469.93 Q2716.08 1465.32 2721.89 1465.32 Z\" fill=\"#000000\" fill-rule=\"evenodd\" fill-opacity=\"1\" /><path clip-path=\"url(#clip440)\" d=\"M1576.45 1550.12 L1563.56 1567.47 L1577.12 1585.77 L1570.21 1585.77 L1559.84 1571.77 L1549.46 1585.77 L1542.55 1585.77 L1556.4 1567.12 L1543.73 1550.12 L1550.64 1550.12 L1560.09 1562.82 L1569.54 1550.12 L1576.45 1550.12 Z\" fill=\"#000000\" fill-rule=\"evenodd\" fill-opacity=\"1\" /><polyline clip-path=\"url(#clip442)\" style=\"stroke:#000000; stroke-linecap:round; stroke-linejoin:round; stroke-width:2; stroke-opacity:0.1; fill:none\" points=\"\n",
       "  366.915,1397.54 2752.76,1397.54 \n",
       "  \"/>\n",
       "<polyline clip-path=\"url(#clip442)\" style=\"stroke:#000000; stroke-linecap:round; stroke-linejoin:round; stroke-width:2; stroke-opacity:0.1; fill:none\" points=\"\n",
       "  366.915,1086.21 2752.76,1086.21 \n",
       "  \"/>\n",
       "<polyline clip-path=\"url(#clip442)\" style=\"stroke:#000000; stroke-linecap:round; stroke-linejoin:round; stroke-width:2; stroke-opacity:0.1; fill:none\" points=\"\n",
       "  366.915,774.869 2752.76,774.869 \n",
       "  \"/>\n",
       "<polyline clip-path=\"url(#clip442)\" style=\"stroke:#000000; stroke-linecap:round; stroke-linejoin:round; stroke-width:2; stroke-opacity:0.1; fill:none\" points=\"\n",
       "  366.915,463.531 2752.76,463.531 \n",
       "  \"/>\n",
       "<polyline clip-path=\"url(#clip442)\" style=\"stroke:#000000; stroke-linecap:round; stroke-linejoin:round; stroke-width:2; stroke-opacity:0.1; fill:none\" points=\"\n",
       "  366.915,152.193 2752.76,152.193 \n",
       "  \"/>\n",
       "<polyline clip-path=\"url(#clip440)\" style=\"stroke:#000000; stroke-linecap:round; stroke-linejoin:round; stroke-width:4; stroke-opacity:1; fill:none\" points=\"\n",
       "  366.915,1434.91 366.915,114.832 \n",
       "  \"/>\n",
       "<polyline clip-path=\"url(#clip440)\" style=\"stroke:#000000; stroke-linecap:round; stroke-linejoin:round; stroke-width:4; stroke-opacity:1; fill:none\" points=\"\n",
       "  366.915,1397.54 385.812,1397.54 \n",
       "  \"/>\n",
       "<polyline clip-path=\"url(#clip440)\" style=\"stroke:#000000; stroke-linecap:round; stroke-linejoin:round; stroke-width:4; stroke-opacity:1; fill:none\" points=\"\n",
       "  366.915,1086.21 385.812,1086.21 \n",
       "  \"/>\n",
       "<polyline clip-path=\"url(#clip440)\" style=\"stroke:#000000; stroke-linecap:round; stroke-linejoin:round; stroke-width:4; stroke-opacity:1; fill:none\" points=\"\n",
       "  366.915,774.869 385.812,774.869 \n",
       "  \"/>\n",
       "<polyline clip-path=\"url(#clip440)\" style=\"stroke:#000000; stroke-linecap:round; stroke-linejoin:round; stroke-width:4; stroke-opacity:1; fill:none\" points=\"\n",
       "  366.915,463.531 385.812,463.531 \n",
       "  \"/>\n",
       "<polyline clip-path=\"url(#clip440)\" style=\"stroke:#000000; stroke-linecap:round; stroke-linejoin:round; stroke-width:4; stroke-opacity:1; fill:none\" points=\"\n",
       "  366.915,152.193 385.812,152.193 \n",
       "  \"/>\n",
       "<path clip-path=\"url(#clip440)\" d=\"M312.97 1383.34 Q309.359 1383.34 307.531 1386.91 Q305.725 1390.45 305.725 1397.58 Q305.725 1404.69 307.531 1408.25 Q309.359 1411.79 312.97 1411.79 Q316.605 1411.79 318.41 1408.25 Q320.239 1404.69 320.239 1397.58 Q320.239 1390.45 318.41 1386.91 Q316.605 1383.34 312.97 1383.34 M312.97 1379.64 Q318.781 1379.64 321.836 1384.25 Q324.915 1388.83 324.915 1397.58 Q324.915 1406.31 321.836 1410.91 Q318.781 1415.5 312.97 1415.5 Q307.16 1415.5 304.082 1410.91 Q301.026 1406.31 301.026 1397.58 Q301.026 1388.83 304.082 1384.25 Q307.16 1379.64 312.97 1379.64 Z\" fill=\"#000000\" fill-rule=\"evenodd\" fill-opacity=\"1\" /><path clip-path=\"url(#clip440)\" d=\"M109.09 1075.37 L127.446 1075.37 L127.446 1079.31 L113.372 1079.31 L113.372 1087.78 Q114.391 1087.43 115.409 1087.27 Q116.428 1087.09 117.446 1087.09 Q123.233 1087.09 126.613 1090.26 Q129.993 1093.43 129.993 1098.85 Q129.993 1104.43 126.52 1107.53 Q123.048 1110.61 116.729 1110.61 Q114.553 1110.61 112.284 1110.24 Q110.039 1109.87 107.632 1109.12 L107.632 1104.43 Q109.715 1105.56 111.937 1106.12 Q114.159 1106.67 116.636 1106.67 Q120.641 1106.67 122.979 1104.56 Q125.317 1102.46 125.317 1098.85 Q125.317 1095.24 122.979 1093.13 Q120.641 1091.02 116.636 1091.02 Q114.761 1091.02 112.886 1091.44 Q111.034 1091.86 109.09 1092.74 L109.09 1075.37 Z\" fill=\"#000000\" fill-rule=\"evenodd\" fill-opacity=\"1\" /><path clip-path=\"url(#clip440)\" d=\"M139.205 1104.05 L144.09 1104.05 L144.09 1109.93 L139.205 1109.93 L139.205 1104.05 Z\" fill=\"#000000\" fill-rule=\"evenodd\" fill-opacity=\"1\" /><path clip-path=\"url(#clip440)\" d=\"M164.275 1078.45 Q160.664 1078.45 158.835 1082.02 Q157.029 1085.56 157.029 1092.69 Q157.029 1099.8 158.835 1103.36 Q160.664 1106.9 164.275 1106.9 Q167.909 1106.9 169.715 1103.36 Q171.543 1099.8 171.543 1092.69 Q171.543 1085.56 169.715 1082.02 Q167.909 1078.45 164.275 1078.45 M164.275 1074.75 Q170.085 1074.75 173.14 1079.36 Q176.219 1083.94 176.219 1092.69 Q176.219 1101.42 173.14 1106.02 Q170.085 1110.61 164.275 1110.61 Q158.465 1110.61 155.386 1106.02 Q152.33 1101.42 152.33 1092.69 Q152.33 1083.94 155.386 1079.36 Q158.465 1074.75 164.275 1074.75 Z\" fill=\"#000000\" fill-rule=\"evenodd\" fill-opacity=\"1\" /><path clip-path=\"url(#clip440)\" d=\"M194.437 1078.45 Q190.826 1078.45 188.997 1082.02 Q187.191 1085.56 187.191 1092.69 Q187.191 1099.8 188.997 1103.36 Q190.826 1106.9 194.437 1106.9 Q198.071 1106.9 199.876 1103.36 Q201.705 1099.8 201.705 1092.69 Q201.705 1085.56 199.876 1082.02 Q198.071 1078.45 194.437 1078.45 M194.437 1074.75 Q200.247 1074.75 203.302 1079.36 Q206.381 1083.94 206.381 1092.69 Q206.381 1101.42 203.302 1106.02 Q200.247 1110.61 194.437 1110.61 Q188.627 1110.61 185.548 1106.02 Q182.492 1101.42 182.492 1092.69 Q182.492 1083.94 185.548 1079.36 Q188.627 1074.75 194.437 1074.75 Z\" fill=\"#000000\" fill-rule=\"evenodd\" fill-opacity=\"1\" /><path clip-path=\"url(#clip440)\" d=\"M242.77 1084.47 L232.191 1095.1 L242.77 1105.68 L240.015 1108.48 L229.39 1097.85 L218.765 1108.48 L216.034 1105.68 L226.589 1095.1 L216.034 1084.47 L218.765 1081.67 L229.39 1092.3 L240.015 1081.67 L242.77 1084.47 Z\" fill=\"#000000\" fill-rule=\"evenodd\" fill-opacity=\"1\" /><path clip-path=\"url(#clip440)\" d=\"M255.131 1106 L262.77 1106 L262.77 1079.63 L254.46 1081.3 L254.46 1077.04 L262.723 1075.37 L267.399 1075.37 L267.399 1106 L275.038 1106 L275.038 1109.93 L255.131 1109.93 L255.131 1106 Z\" fill=\"#000000\" fill-rule=\"evenodd\" fill-opacity=\"1\" /><path clip-path=\"url(#clip440)\" d=\"M294.482 1078.45 Q290.871 1078.45 289.043 1082.02 Q287.237 1085.56 287.237 1092.69 Q287.237 1099.8 289.043 1103.36 Q290.871 1106.9 294.482 1106.9 Q298.117 1106.9 299.922 1103.36 Q301.751 1099.8 301.751 1092.69 Q301.751 1085.56 299.922 1082.02 Q298.117 1078.45 294.482 1078.45 M294.482 1074.75 Q300.293 1074.75 303.348 1079.36 Q306.427 1083.94 306.427 1092.69 Q306.427 1101.42 303.348 1106.02 Q300.293 1110.61 294.482 1110.61 Q288.672 1110.61 285.594 1106.02 Q282.538 1101.42 282.538 1092.69 Q282.538 1083.94 285.594 1079.36 Q288.672 1074.75 294.482 1074.75 Z\" fill=\"#000000\" fill-rule=\"evenodd\" fill-opacity=\"1\" /><path clip-path=\"url(#clip440)\" d=\"M319.122 1067.38 Q321.849 1067.97 323.373 1069.81 Q324.915 1071.65 324.915 1074.36 Q324.915 1078.52 322.056 1080.79 Q319.197 1083.07 313.931 1083.07 Q312.163 1083.07 310.282 1082.71 Q308.42 1082.37 306.427 1081.68 L306.427 1078.01 Q308.007 1078.93 309.887 1079.4 Q311.768 1079.87 313.818 1079.87 Q317.392 1079.87 319.254 1078.46 Q321.134 1077.05 321.134 1074.36 Q321.134 1071.88 319.385 1070.49 Q317.655 1069.08 314.552 1069.08 L311.279 1069.08 L311.279 1065.95 L314.702 1065.95 Q317.505 1065.95 318.99 1064.84 Q320.476 1063.72 320.476 1061.61 Q320.476 1059.45 318.934 1058.3 Q317.411 1057.13 314.552 1057.13 Q312.991 1057.13 311.204 1057.47 Q309.417 1057.81 307.273 1058.53 L307.273 1055.14 Q309.436 1054.54 311.317 1054.24 Q313.216 1053.94 314.89 1053.94 Q319.216 1053.94 321.736 1055.91 Q324.257 1057.87 324.257 1061.21 Q324.257 1063.55 322.921 1065.16 Q321.586 1066.76 319.122 1067.38 Z\" fill=\"#000000\" fill-rule=\"evenodd\" fill-opacity=\"1\" /><path clip-path=\"url(#clip440)\" d=\"M107.879 794.661 L115.518 794.661 L115.518 768.296 L107.208 769.962 L107.208 765.703 L115.472 764.036 L120.147 764.036 L120.147 794.661 L127.786 794.661 L127.786 798.596 L107.879 798.596 L107.879 794.661 Z\" fill=\"#000000\" fill-rule=\"evenodd\" fill-opacity=\"1\" /><path clip-path=\"url(#clip440)\" d=\"M137.231 792.717 L142.115 792.717 L142.115 798.596 L137.231 798.596 L137.231 792.717 Z\" fill=\"#000000\" fill-rule=\"evenodd\" fill-opacity=\"1\" /><path clip-path=\"url(#clip440)\" d=\"M162.3 767.115 Q158.689 767.115 156.86 770.68 Q155.055 774.222 155.055 781.351 Q155.055 788.458 156.86 792.022 Q158.689 795.564 162.3 795.564 Q165.934 795.564 167.74 792.022 Q169.568 788.458 169.568 781.351 Q169.568 774.222 167.74 770.68 Q165.934 767.115 162.3 767.115 M162.3 763.411 Q168.11 763.411 171.166 768.018 Q174.244 772.601 174.244 781.351 Q174.244 790.078 171.166 794.684 Q168.11 799.268 162.3 799.268 Q156.49 799.268 153.411 794.684 Q150.356 790.078 150.356 781.351 Q150.356 772.601 153.411 768.018 Q156.49 763.411 162.3 763.411 Z\" fill=\"#000000\" fill-rule=\"evenodd\" fill-opacity=\"1\" /><path clip-path=\"url(#clip440)\" d=\"M192.462 767.115 Q188.851 767.115 187.022 770.68 Q185.217 774.222 185.217 781.351 Q185.217 788.458 187.022 792.022 Q188.851 795.564 192.462 795.564 Q196.096 795.564 197.902 792.022 Q199.73 788.458 199.73 781.351 Q199.73 774.222 197.902 770.68 Q196.096 767.115 192.462 767.115 M192.462 763.411 Q198.272 763.411 201.328 768.018 Q204.406 772.601 204.406 781.351 Q204.406 790.078 201.328 794.684 Q198.272 799.268 192.462 799.268 Q186.652 799.268 183.573 794.684 Q180.517 790.078 180.517 781.351 Q180.517 772.601 183.573 768.018 Q186.652 763.411 192.462 763.411 Z\" fill=\"#000000\" fill-rule=\"evenodd\" fill-opacity=\"1\" /><path clip-path=\"url(#clip440)\" d=\"M240.795 773.134 L230.216 783.759 L240.795 794.337 L238.04 797.138 L227.415 786.513 L216.79 797.138 L214.059 794.337 L224.614 783.759 L214.059 773.134 L216.79 770.333 L227.415 780.958 L238.04 770.333 L240.795 773.134 Z\" fill=\"#000000\" fill-rule=\"evenodd\" fill-opacity=\"1\" /><path clip-path=\"url(#clip440)\" d=\"M253.156 794.661 L260.795 794.661 L260.795 768.296 L252.485 769.962 L252.485 765.703 L260.749 764.036 L265.424 764.036 L265.424 794.661 L273.063 794.661 L273.063 798.596 L253.156 798.596 L253.156 794.661 Z\" fill=\"#000000\" fill-rule=\"evenodd\" fill-opacity=\"1\" /><path clip-path=\"url(#clip440)\" d=\"M292.508 767.115 Q288.897 767.115 287.068 770.68 Q285.262 774.222 285.262 781.351 Q285.262 788.458 287.068 792.022 Q288.897 795.564 292.508 795.564 Q296.142 795.564 297.947 792.022 Q299.776 788.458 299.776 781.351 Q299.776 774.222 297.947 770.68 Q296.142 767.115 292.508 767.115 M292.508 763.411 Q298.318 763.411 301.373 768.018 Q304.452 772.601 304.452 781.351 Q304.452 790.078 301.373 794.684 Q298.318 799.268 292.508 799.268 Q286.697 799.268 283.619 794.684 Q280.563 790.078 280.563 781.351 Q280.563 772.601 283.619 768.018 Q286.697 763.411 292.508 763.411 Z\" fill=\"#000000\" fill-rule=\"evenodd\" fill-opacity=\"1\" /><path clip-path=\"url(#clip440)\" d=\"M317.128 746.416 L307.536 761.406 L317.128 761.406 L317.128 746.416 M316.132 743.106 L320.909 743.106 L320.909 761.406 L324.915 761.406 L324.915 764.566 L320.909 764.566 L320.909 771.186 L317.128 771.186 L317.128 764.566 L304.452 764.566 L304.452 760.898 L316.132 743.106 Z\" fill=\"#000000\" fill-rule=\"evenodd\" fill-opacity=\"1\" /><path clip-path=\"url(#clip440)\" d=\"M107.879 483.323 L115.518 483.323 L115.518 456.958 L107.208 458.624 L107.208 454.365 L115.472 452.698 L120.147 452.698 L120.147 483.323 L127.786 483.323 L127.786 487.258 L107.879 487.258 L107.879 483.323 Z\" fill=\"#000000\" fill-rule=\"evenodd\" fill-opacity=\"1\" /><path clip-path=\"url(#clip440)\" d=\"M137.231 481.379 L142.115 481.379 L142.115 487.258 L137.231 487.258 L137.231 481.379 Z\" fill=\"#000000\" fill-rule=\"evenodd\" fill-opacity=\"1\" /><path clip-path=\"url(#clip440)\" d=\"M152.346 452.698 L170.703 452.698 L170.703 456.634 L156.629 456.634 L156.629 465.106 Q157.647 464.758 158.666 464.596 Q159.684 464.411 160.703 464.411 Q166.49 464.411 169.869 467.583 Q173.249 470.754 173.249 476.17 Q173.249 481.749 169.777 484.851 Q166.305 487.93 159.985 487.93 Q157.809 487.93 155.541 487.559 Q153.295 487.189 150.888 486.448 L150.888 481.749 Q152.971 482.883 155.194 483.439 Q157.416 483.994 159.893 483.994 Q163.897 483.994 166.235 481.888 Q168.573 479.782 168.573 476.17 Q168.573 472.559 166.235 470.453 Q163.897 468.346 159.893 468.346 Q158.018 468.346 156.143 468.763 Q154.291 469.18 152.346 470.059 L152.346 452.698 Z\" fill=\"#000000\" fill-rule=\"evenodd\" fill-opacity=\"1\" /><path clip-path=\"url(#clip440)\" d=\"M192.462 455.777 Q188.851 455.777 187.022 459.342 Q185.217 462.883 185.217 470.013 Q185.217 477.12 187.022 480.684 Q188.851 484.226 192.462 484.226 Q196.096 484.226 197.902 480.684 Q199.73 477.12 199.73 470.013 Q199.73 462.883 197.902 459.342 Q196.096 455.777 192.462 455.777 M192.462 452.073 Q198.272 452.073 201.328 456.68 Q204.406 461.263 204.406 470.013 Q204.406 478.74 201.328 483.346 Q198.272 487.93 192.462 487.93 Q186.652 487.93 183.573 483.346 Q180.517 478.74 180.517 470.013 Q180.517 461.263 183.573 456.68 Q186.652 452.073 192.462 452.073 Z\" fill=\"#000000\" fill-rule=\"evenodd\" fill-opacity=\"1\" /><path clip-path=\"url(#clip440)\" d=\"M240.795 461.796 L230.216 472.42 L240.795 482.999 L238.04 485.8 L227.415 475.175 L216.79 485.8 L214.059 482.999 L224.614 472.42 L214.059 461.796 L216.79 458.995 L227.415 469.62 L238.04 458.995 L240.795 461.796 Z\" fill=\"#000000\" fill-rule=\"evenodd\" fill-opacity=\"1\" /><path clip-path=\"url(#clip440)\" d=\"M253.156 483.323 L260.795 483.323 L260.795 456.958 L252.485 458.624 L252.485 454.365 L260.749 452.698 L265.424 452.698 L265.424 483.323 L273.063 483.323 L273.063 487.258 L253.156 487.258 L253.156 483.323 Z\" fill=\"#000000\" fill-rule=\"evenodd\" fill-opacity=\"1\" /><path clip-path=\"url(#clip440)\" d=\"M292.508 455.777 Q288.897 455.777 287.068 459.342 Q285.262 462.883 285.262 470.013 Q285.262 477.12 287.068 480.684 Q288.897 484.226 292.508 484.226 Q296.142 484.226 297.947 480.684 Q299.776 477.12 299.776 470.013 Q299.776 462.883 297.947 459.342 Q296.142 455.777 292.508 455.777 M292.508 452.073 Q298.318 452.073 301.373 456.68 Q304.452 461.263 304.452 470.013 Q304.452 478.74 301.373 483.346 Q298.318 487.93 292.508 487.93 Q286.697 487.93 283.619 483.346 Q280.563 478.74 280.563 470.013 Q280.563 461.263 283.619 456.68 Q286.697 452.073 292.508 452.073 Z\" fill=\"#000000\" fill-rule=\"evenodd\" fill-opacity=\"1\" /><path clip-path=\"url(#clip440)\" d=\"M317.128 435.078 L307.536 450.068 L317.128 450.068 L317.128 435.078 M316.132 431.768 L320.909 431.768 L320.909 450.068 L324.915 450.068 L324.915 453.228 L320.909 453.228 L320.909 459.848 L317.128 459.848 L317.128 453.228 L304.452 453.228 L304.452 449.56 L316.132 431.768 Z\" fill=\"#000000\" fill-rule=\"evenodd\" fill-opacity=\"1\" /><path clip-path=\"url(#clip440)\" d=\"M111.097 171.985 L127.416 171.985 L127.416 175.92 L105.472 175.92 L105.472 171.985 Q108.134 169.231 112.717 164.601 Q117.323 159.948 118.504 158.606 Q120.749 156.082 121.629 154.346 Q122.532 152.587 122.532 150.897 Q122.532 148.143 120.587 146.407 Q118.666 144.67 115.564 144.67 Q113.365 144.67 110.911 145.434 Q108.481 146.198 105.703 147.749 L105.703 143.027 Q108.527 141.893 110.981 141.314 Q113.435 140.735 115.472 140.735 Q120.842 140.735 124.036 143.42 Q127.231 146.106 127.231 150.596 Q127.231 152.726 126.421 154.647 Q125.634 156.545 123.527 159.138 Q122.948 159.809 119.847 163.027 Q116.745 166.221 111.097 171.985 Z\" fill=\"#000000\" fill-rule=\"evenodd\" fill-opacity=\"1\" /><path clip-path=\"url(#clip440)\" d=\"M137.231 170.041 L142.115 170.041 L142.115 175.92 L137.231 175.92 L137.231 170.041 Z\" fill=\"#000000\" fill-rule=\"evenodd\" fill-opacity=\"1\" /><path clip-path=\"url(#clip440)\" d=\"M162.3 144.439 Q158.689 144.439 156.86 148.004 Q155.055 151.545 155.055 158.675 Q155.055 165.781 156.86 169.346 Q158.689 172.888 162.3 172.888 Q165.934 172.888 167.74 169.346 Q169.568 165.781 169.568 158.675 Q169.568 151.545 167.74 148.004 Q165.934 144.439 162.3 144.439 M162.3 140.735 Q168.11 140.735 171.166 145.342 Q174.244 149.925 174.244 158.675 Q174.244 167.402 171.166 172.008 Q168.11 176.592 162.3 176.592 Q156.49 176.592 153.411 172.008 Q150.356 167.402 150.356 158.675 Q150.356 149.925 153.411 145.342 Q156.49 140.735 162.3 140.735 Z\" fill=\"#000000\" fill-rule=\"evenodd\" fill-opacity=\"1\" /><path clip-path=\"url(#clip440)\" d=\"M192.462 144.439 Q188.851 144.439 187.022 148.004 Q185.217 151.545 185.217 158.675 Q185.217 165.781 187.022 169.346 Q188.851 172.888 192.462 172.888 Q196.096 172.888 197.902 169.346 Q199.73 165.781 199.73 158.675 Q199.73 151.545 197.902 148.004 Q196.096 144.439 192.462 144.439 M192.462 140.735 Q198.272 140.735 201.328 145.342 Q204.406 149.925 204.406 158.675 Q204.406 167.402 201.328 172.008 Q198.272 176.592 192.462 176.592 Q186.652 176.592 183.573 172.008 Q180.517 167.402 180.517 158.675 Q180.517 149.925 183.573 145.342 Q186.652 140.735 192.462 140.735 Z\" fill=\"#000000\" fill-rule=\"evenodd\" fill-opacity=\"1\" /><path clip-path=\"url(#clip440)\" d=\"M240.795 150.457 L230.216 161.082 L240.795 171.661 L238.04 174.462 L227.415 163.837 L216.79 174.462 L214.059 171.661 L224.614 161.082 L214.059 150.457 L216.79 147.657 L227.415 158.282 L238.04 147.657 L240.795 150.457 Z\" fill=\"#000000\" fill-rule=\"evenodd\" fill-opacity=\"1\" /><path clip-path=\"url(#clip440)\" d=\"M253.156 171.985 L260.795 171.985 L260.795 145.62 L252.485 147.286 L252.485 143.027 L260.749 141.36 L265.424 141.36 L265.424 171.985 L273.063 171.985 L273.063 175.92 L253.156 175.92 L253.156 171.985 Z\" fill=\"#000000\" fill-rule=\"evenodd\" fill-opacity=\"1\" /><path clip-path=\"url(#clip440)\" d=\"M292.508 144.439 Q288.897 144.439 287.068 148.004 Q285.262 151.545 285.262 158.675 Q285.262 165.781 287.068 169.346 Q288.897 172.888 292.508 172.888 Q296.142 172.888 297.947 169.346 Q299.776 165.781 299.776 158.675 Q299.776 151.545 297.947 148.004 Q296.142 144.439 292.508 144.439 M292.508 140.735 Q298.318 140.735 301.373 145.342 Q304.452 149.925 304.452 158.675 Q304.452 167.402 301.373 172.008 Q298.318 176.592 292.508 176.592 Q286.697 176.592 283.619 172.008 Q280.563 167.402 280.563 158.675 Q280.563 149.925 283.619 145.342 Q286.697 140.735 292.508 140.735 Z\" fill=\"#000000\" fill-rule=\"evenodd\" fill-opacity=\"1\" /><path clip-path=\"url(#clip440)\" d=\"M317.128 123.74 L307.536 138.73 L317.128 138.73 L317.128 123.74 M316.132 120.43 L320.909 120.43 L320.909 138.73 L324.915 138.73 L324.915 141.89 L320.909 141.89 L320.909 148.51 L317.128 148.51 L317.128 141.89 L304.452 141.89 L304.452 138.222 L316.132 120.43 Z\" fill=\"#000000\" fill-rule=\"evenodd\" fill-opacity=\"1\" /><path clip-path=\"url(#clip440)\" d=\"M-0.309612 880.587 L4.56015 880.587 L4.56015 886.189 Q4.56015 889.34 5.8333 890.581 Q7.10644 891.791 10.4166 891.791 L13.5676 891.791 L13.5676 882.147 L18.1191 882.147 L18.1191 891.791 L49.2156 891.791 L49.2156 897.679 L18.1191 897.679 L18.1191 903.281 L13.5676 903.281 L13.5676 897.679 L11.085 897.679 Q5.13307 897.679 2.42764 894.91 Q-0.309612 892.141 -0.309612 886.125 L-0.309612 880.587 Z\" fill=\"#000000\" fill-rule=\"evenodd\" fill-opacity=\"1\" /><path clip-path=\"url(#clip440)\" d=\"M-0.245954 861.618 Q7.07461 865.883 14.236 867.951 Q21.3974 870.02 28.7498 870.02 Q36.1022 870.02 43.3273 867.951 Q50.5206 865.851 57.8093 861.618 L57.8093 866.71 Q50.3296 871.484 43.1045 873.871 Q35.8794 876.227 28.7498 876.227 Q21.6521 876.227 14.4588 873.871 Q7.26558 871.516 -0.245954 866.71 L-0.245954 861.618 Z\" fill=\"#000000\" fill-rule=\"evenodd\" fill-opacity=\"1\" /><path clip-path=\"url(#clip440)\" d=\"M13.5676 820.622 L30.9142 833.513 L49.2156 819.954 L49.2156 826.861 L35.211 837.237 L49.2156 847.613 L49.2156 854.52 L30.5641 840.674 L13.5676 853.342 L13.5676 846.435 L26.2672 836.982 L13.5676 827.529 L13.5676 820.622 Z\" fill=\"#000000\" fill-rule=\"evenodd\" fill-opacity=\"1\" /><path clip-path=\"url(#clip440)\" d=\"M-0.245954 812.602 L-0.245954 807.509 Q7.26558 802.735 14.4588 800.379 Q21.6521 797.992 28.7498 797.992 Q35.8794 797.992 43.1045 800.379 Q50.3296 802.735 57.8093 807.509 L57.8093 812.602 Q50.5206 808.368 43.3273 806.3 Q36.1022 804.199 28.7498 804.199 Q21.3974 804.199 14.236 806.3 Q7.07461 808.368 -0.245954 812.602 Z\" fill=\"#000000\" fill-rule=\"evenodd\" fill-opacity=\"1\" /><path clip-path=\"url(#clip440)\" d=\"M41.1311 784.752 L41.1311 778.036 L46.6056 778.036 L56.7908 783.256 L56.7908 787.362 L46.6056 784.752 L41.1311 784.752 Z\" fill=\"#000000\" fill-rule=\"evenodd\" fill-opacity=\"1\" /><path clip-path=\"url(#clip440)\" d=\"M43.8684 759.862 L62.7745 759.862 L62.7745 765.75 L13.5676 765.75 L13.5676 759.862 L18.9785 759.862 Q15.7956 758.016 14.2679 755.215 Q12.7083 752.382 12.7083 748.467 Q12.7083 741.974 17.8645 737.932 Q23.0207 733.858 31.4234 733.858 Q39.8262 733.858 44.9824 737.932 Q50.1386 741.974 50.1386 748.467 Q50.1386 752.382 48.6108 755.215 Q47.0512 758.016 43.8684 759.862 M31.4234 739.937 Q24.9622 739.937 21.302 742.611 Q17.6099 745.252 17.6099 749.899 Q17.6099 754.546 21.302 757.22 Q24.9622 759.862 31.4234 759.862 Q37.8846 759.862 41.5767 757.22 Q45.237 754.546 45.237 749.899 Q45.237 745.252 41.5767 742.611 Q37.8846 739.937 31.4234 739.937 Z\" fill=\"#000000\" fill-rule=\"evenodd\" fill-opacity=\"1\" /><path clip-path=\"url(#clip440)\" d=\"M-0.245954 710.082 Q7.07461 714.347 14.236 716.416 Q21.3974 718.485 28.7498 718.485 Q36.1022 718.485 43.3273 716.416 Q50.5206 714.315 57.8093 710.082 L57.8093 715.174 Q50.3296 719.949 43.1045 722.336 Q35.8794 724.691 28.7498 724.691 Q21.6521 724.691 14.4588 722.336 Q7.26558 719.981 -0.245954 715.174 L-0.245954 710.082 Z\" fill=\"#000000\" fill-rule=\"evenodd\" fill-opacity=\"1\" /><path clip-path=\"url(#clip440)\" d=\"M13.5676 669.087 L30.9142 681.977 L49.2156 668.418 L49.2156 675.325 L35.211 685.701 L49.2156 696.077 L49.2156 702.984 L30.5641 689.139 L13.5676 701.806 L13.5676 694.9 L26.2672 685.447 L13.5676 675.994 L13.5676 669.087 Z\" fill=\"#000000\" fill-rule=\"evenodd\" fill-opacity=\"1\" /><path clip-path=\"url(#clip440)\" d=\"M-0.245954 661.066 L-0.245954 655.973 Q7.26558 651.199 14.4588 648.844 Q21.6521 646.457 28.7498 646.457 Q35.8794 646.457 43.1045 648.844 Q50.3296 651.199 57.8093 655.973 L57.8093 661.066 Q50.5206 656.833 43.3273 654.764 Q36.1022 652.663 28.7498 652.663 Q21.3974 652.663 14.236 654.764 Q7.07461 656.833 -0.245954 661.066 Z\" fill=\"#000000\" fill-rule=\"evenodd\" fill-opacity=\"1\" /><path clip-path=\"url(#clip440)\" d=\"M965.082 18.8205 L965.082 41.5461 L975.371 41.5461 Q981.083 41.5461 984.202 38.5889 Q987.321 35.6318 987.321 30.163 Q987.321 24.7348 984.202 21.7777 Q981.083 18.8205 975.371 18.8205 L965.082 18.8205 M956.899 12.096 L975.371 12.096 Q985.539 12.096 990.724 16.714 Q995.95 21.2916 995.95 30.163 Q995.95 39.1155 990.724 43.6931 Q985.539 48.2706 975.371 48.2706 L965.082 48.2706 L965.082 72.576 L956.899 72.576 L956.899 12.096 Z\" fill=\"#000000\" fill-rule=\"evenodd\" fill-opacity=\"1\" /><path clip-path=\"url(#clip440)\" d=\"M1004.78 27.2059 L1012.23 27.2059 L1012.23 72.576 L1004.78 72.576 L1004.78 27.2059 M1004.78 9.54393 L1012.23 9.54393 L1012.23 18.9825 L1004.78 18.9825 L1004.78 9.54393 Z\" fill=\"#000000\" fill-rule=\"evenodd\" fill-opacity=\"1\" /><path clip-path=\"url(#clip440)\" d=\"M1066.64 48.0275 L1066.64 51.6733 L1032.37 51.6733 Q1032.85 59.3701 1036.99 63.421 Q1041.16 67.4314 1048.57 67.4314 Q1052.86 67.4314 1056.88 66.3781 Q1060.93 65.3249 1064.9 63.2184 L1064.9 70.267 Q1060.89 71.9684 1056.67 72.8596 Q1052.46 73.7508 1048.13 73.7508 Q1037.27 73.7508 1030.91 67.4314 Q1024.59 61.1119 1024.59 50.3365 Q1024.59 39.1965 1030.58 32.6746 Q1036.62 26.1121 1046.83 26.1121 Q1055.98 26.1121 1061.29 32.0264 Q1066.64 37.9003 1066.64 48.0275 M1059.18 45.84 Q1059.1 39.7232 1055.74 36.0774 Q1052.42 32.4315 1046.91 32.4315 Q1040.67 32.4315 1036.9 35.9558 Q1033.18 39.4801 1032.61 45.8805 L1059.18 45.84 Z\" fill=\"#000000\" fill-rule=\"evenodd\" fill-opacity=\"1\" /><path clip-path=\"url(#clip440)\" d=\"M1111.52 28.9478 L1111.52 35.9153 Q1108.36 34.1734 1105.16 33.3227 Q1102 32.4315 1098.76 32.4315 Q1091.51 32.4315 1087.5 37.0496 Q1083.49 41.6271 1083.49 49.9314 Q1083.49 58.2358 1087.5 62.8538 Q1091.51 67.4314 1098.76 67.4314 Q1102 67.4314 1105.16 66.5807 Q1108.36 65.6895 1111.52 63.9476 L1111.52 70.8341 Q1108.4 72.2924 1105.04 73.0216 Q1101.72 73.7508 1097.95 73.7508 Q1087.7 73.7508 1081.67 67.3098 Q1075.63 60.8689 1075.63 49.9314 Q1075.63 38.832 1081.71 32.472 Q1087.82 26.1121 1098.44 26.1121 Q1101.88 26.1121 1105.16 26.8413 Q1108.44 27.5299 1111.52 28.9478 Z\" fill=\"#000000\" fill-rule=\"evenodd\" fill-opacity=\"1\" /><path clip-path=\"url(#clip440)\" d=\"M1163.29 48.0275 L1163.29 51.6733 L1129.02 51.6733 Q1129.51 59.3701 1133.64 63.421 Q1137.81 67.4314 1145.23 67.4314 Q1149.52 67.4314 1153.53 66.3781 Q1157.58 65.3249 1161.55 63.2184 L1161.55 70.267 Q1157.54 71.9684 1153.33 72.8596 Q1149.11 73.7508 1144.78 73.7508 Q1133.92 73.7508 1127.56 67.4314 Q1121.24 61.1119 1121.24 50.3365 Q1121.24 39.1965 1127.24 32.6746 Q1133.28 26.1121 1143.48 26.1121 Q1152.64 26.1121 1157.95 32.0264 Q1163.29 37.9003 1163.29 48.0275 M1155.84 45.84 Q1155.76 39.7232 1152.4 36.0774 Q1149.07 32.4315 1143.56 32.4315 Q1137.33 32.4315 1133.56 35.9558 Q1129.83 39.4801 1129.26 45.8805 L1155.84 45.84 Z\" fill=\"#000000\" fill-rule=\"evenodd\" fill-opacity=\"1\" /><path clip-path=\"url(#clip440)\" d=\"M1171.19 27.2059 L1178.65 27.2059 L1187.96 62.6108 L1197.24 27.2059 L1206.03 27.2059 L1215.35 62.6108 L1224.62 27.2059 L1232.08 27.2059 L1220.21 72.576 L1211.42 72.576 L1201.65 35.3887 L1191.85 72.576 L1183.06 72.576 L1171.19 27.2059 Z\" fill=\"#000000\" fill-rule=\"evenodd\" fill-opacity=\"1\" /><path clip-path=\"url(#clip440)\" d=\"M1243.38 27.2059 L1250.83 27.2059 L1250.83 72.576 L1243.38 72.576 L1243.38 27.2059 M1243.38 9.54393 L1250.83 9.54393 L1250.83 18.9825 L1243.38 18.9825 L1243.38 9.54393 Z\" fill=\"#000000\" fill-rule=\"evenodd\" fill-opacity=\"1\" /><path clip-path=\"url(#clip440)\" d=\"M1295.35 28.5427 L1295.35 35.5912 Q1292.19 33.9709 1288.79 33.1607 Q1285.39 32.3505 1281.74 32.3505 Q1276.19 32.3505 1273.4 34.0519 Q1270.64 35.7533 1270.64 39.156 Q1270.64 41.7486 1272.63 43.2475 Q1274.61 44.7058 1280.61 46.0426 L1283.16 46.6097 Q1291.1 48.3111 1294.42 51.4303 Q1297.78 54.509 1297.78 60.0587 Q1297.78 66.3781 1292.76 70.0644 Q1287.78 73.7508 1279.03 73.7508 Q1275.38 73.7508 1271.41 73.0216 Q1267.48 72.3329 1263.11 70.9151 L1263.11 63.2184 Q1267.24 65.3654 1271.25 66.4591 Q1275.26 67.5124 1279.19 67.5124 Q1284.45 67.5124 1287.29 65.73 Q1290.13 63.9071 1290.13 60.6258 Q1290.13 57.5877 1288.06 55.9673 Q1286.03 54.3469 1279.11 52.8481 L1276.52 52.2405 Q1269.59 50.7821 1266.51 47.7845 Q1263.43 44.7463 1263.43 39.4801 Q1263.43 33.0797 1267.97 29.5959 Q1272.5 26.1121 1280.85 26.1121 Q1284.98 26.1121 1288.63 26.7198 Q1292.27 27.3274 1295.35 28.5427 Z\" fill=\"#000000\" fill-rule=\"evenodd\" fill-opacity=\"1\" /><path clip-path=\"url(#clip440)\" d=\"M1348.46 48.0275 L1348.46 51.6733 L1314.19 51.6733 Q1314.67 59.3701 1318.81 63.421 Q1322.98 67.4314 1330.39 67.4314 Q1334.69 67.4314 1338.7 66.3781 Q1342.75 65.3249 1346.72 63.2184 L1346.72 70.267 Q1342.71 71.9684 1338.49 72.8596 Q1334.28 73.7508 1329.95 73.7508 Q1319.09 73.7508 1312.73 67.4314 Q1306.41 61.1119 1306.41 50.3365 Q1306.41 39.1965 1312.41 32.6746 Q1318.44 26.1121 1328.65 26.1121 Q1337.81 26.1121 1343.11 32.0264 Q1348.46 37.9003 1348.46 48.0275 M1341.01 45.84 Q1340.92 39.7232 1337.56 36.0774 Q1334.24 32.4315 1328.73 32.4315 Q1322.49 32.4315 1318.73 35.9558 Q1315 39.4801 1314.43 45.8805 L1341.01 45.84 Z\" fill=\"#000000\" fill-rule=\"evenodd\" fill-opacity=\"1\" /><path clip-path=\"url(#clip440)\" d=\"M1387.06 9.54393 L1394.52 9.54393 L1394.52 72.576 L1387.06 72.576 L1387.06 9.54393 Z\" fill=\"#000000\" fill-rule=\"evenodd\" fill-opacity=\"1\" /><path clip-path=\"url(#clip440)\" d=\"M1410.11 27.2059 L1417.57 27.2059 L1417.57 72.576 L1410.11 72.576 L1410.11 27.2059 M1410.11 9.54393 L1417.57 9.54393 L1417.57 18.9825 L1410.11 18.9825 L1410.11 9.54393 Z\" fill=\"#000000\" fill-rule=\"evenodd\" fill-opacity=\"1\" /><path clip-path=\"url(#clip440)\" d=\"M1470.88 45.1919 L1470.88 72.576 L1463.42 72.576 L1463.42 45.4349 Q1463.42 38.994 1460.91 35.7938 Q1458.4 32.5936 1453.38 32.5936 Q1447.34 32.5936 1443.86 36.4419 Q1440.37 40.2903 1440.37 46.9338 L1440.37 72.576 L1432.88 72.576 L1432.88 27.2059 L1440.37 27.2059 L1440.37 34.2544 Q1443.05 30.163 1446.65 28.1376 Q1450.3 26.1121 1455.04 26.1121 Q1462.86 26.1121 1466.87 30.9732 Q1470.88 35.7938 1470.88 45.1919 Z\" fill=\"#000000\" fill-rule=\"evenodd\" fill-opacity=\"1\" /><path clip-path=\"url(#clip440)\" d=\"M1524.55 48.0275 L1524.55 51.6733 L1490.28 51.6733 Q1490.77 59.3701 1494.9 63.421 Q1499.07 67.4314 1506.48 67.4314 Q1510.78 67.4314 1514.79 66.3781 Q1518.84 65.3249 1522.81 63.2184 L1522.81 70.267 Q1518.8 71.9684 1514.59 72.8596 Q1510.37 73.7508 1506.04 73.7508 Q1495.18 73.7508 1488.82 67.4314 Q1482.5 61.1119 1482.5 50.3365 Q1482.5 39.1965 1488.5 32.6746 Q1494.53 26.1121 1504.74 26.1121 Q1513.9 26.1121 1519.2 32.0264 Q1524.55 37.9003 1524.55 48.0275 M1517.1 45.84 Q1517.02 39.7232 1513.66 36.0774 Q1510.33 32.4315 1504.82 32.4315 Q1498.59 32.4315 1494.82 35.9558 Q1491.09 39.4801 1490.52 45.8805 L1517.1 45.84 Z\" fill=\"#000000\" fill-rule=\"evenodd\" fill-opacity=\"1\" /><path clip-path=\"url(#clip440)\" d=\"M1557.4 49.7694 Q1548.37 49.7694 1544.89 51.8354 Q1541.4 53.9013 1541.4 58.8839 Q1541.4 62.8538 1544 65.2034 Q1546.63 67.5124 1551.13 67.5124 Q1557.32 67.5124 1561.05 63.1374 Q1564.82 58.7219 1564.82 51.4303 L1564.82 49.7694 L1557.4 49.7694 M1572.27 46.6907 L1572.27 72.576 L1564.82 72.576 L1564.82 65.6895 Q1562.27 69.8214 1558.46 71.8063 Q1554.65 73.7508 1549.14 73.7508 Q1542.17 73.7508 1538.04 69.8619 Q1533.95 65.9325 1533.95 59.3701 Q1533.95 51.7138 1539.05 47.825 Q1544.2 43.9361 1554.37 43.9361 L1564.82 43.9361 L1564.82 43.2069 Q1564.82 38.0623 1561.42 35.2672 Q1558.05 32.4315 1551.94 32.4315 Q1548.05 32.4315 1544.36 33.3632 Q1540.67 34.295 1537.27 36.1584 L1537.27 29.2718 Q1541.36 27.692 1545.21 26.9223 Q1549.06 26.1121 1552.71 26.1121 Q1562.55 26.1121 1567.41 31.2163 Q1572.27 36.3204 1572.27 46.6907 Z\" fill=\"#000000\" fill-rule=\"evenodd\" fill-opacity=\"1\" /><path clip-path=\"url(#clip440)\" d=\"M1613.91 34.1734 Q1612.66 33.4443 1611.16 33.1202 Q1609.7 32.7556 1607.92 32.7556 Q1601.6 32.7556 1598.2 36.8875 Q1594.84 40.9789 1594.84 48.6757 L1594.84 72.576 L1587.34 72.576 L1587.34 27.2059 L1594.84 27.2059 L1594.84 34.2544 Q1597.18 30.1225 1600.95 28.1376 Q1604.72 26.1121 1610.11 26.1121 Q1610.88 26.1121 1611.81 26.2337 Q1612.74 26.3147 1613.87 26.5172 L1613.91 34.1734 Z\" fill=\"#000000\" fill-rule=\"evenodd\" fill-opacity=\"1\" /><path clip-path=\"url(#clip440)\" d=\"M1648.1 27.2059 L1655.56 27.2059 L1655.56 72.576 L1648.1 72.576 L1648.1 27.2059 M1648.1 9.54393 L1655.56 9.54393 L1655.56 18.9825 L1648.1 18.9825 L1648.1 9.54393 Z\" fill=\"#000000\" fill-rule=\"evenodd\" fill-opacity=\"1\" /><path clip-path=\"url(#clip440)\" d=\"M1708.87 45.1919 L1708.87 72.576 L1701.41 72.576 L1701.41 45.4349 Q1701.41 38.994 1698.9 35.7938 Q1696.39 32.5936 1691.37 32.5936 Q1685.33 32.5936 1681.85 36.4419 Q1678.36 40.2903 1678.36 46.9338 L1678.36 72.576 L1670.87 72.576 L1670.87 27.2059 L1678.36 27.2059 L1678.36 34.2544 Q1681.04 30.163 1684.64 28.1376 Q1688.29 26.1121 1693.03 26.1121 Q1700.85 26.1121 1704.86 30.9732 Q1708.87 35.7938 1708.87 45.1919 Z\" fill=\"#000000\" fill-rule=\"evenodd\" fill-opacity=\"1\" /><path clip-path=\"url(#clip440)\" d=\"M1731.11 14.324 L1731.11 27.2059 L1746.46 27.2059 L1746.46 32.9987 L1731.11 32.9987 L1731.11 57.6282 Q1731.11 63.1779 1732.61 64.7578 Q1734.15 66.3376 1738.8 66.3376 L1746.46 66.3376 L1746.46 72.576 L1738.8 72.576 Q1730.18 72.576 1726.89 69.3758 Q1723.61 66.1351 1723.61 57.6282 L1723.61 32.9987 L1718.14 32.9987 L1718.14 27.2059 L1723.61 27.2059 L1723.61 14.324 L1731.11 14.324 Z\" fill=\"#000000\" fill-rule=\"evenodd\" fill-opacity=\"1\" /><path clip-path=\"url(#clip440)\" d=\"M1795.07 48.0275 L1795.07 51.6733 L1760.8 51.6733 Q1761.29 59.3701 1765.42 63.421 Q1769.59 67.4314 1777 67.4314 Q1781.3 67.4314 1785.31 66.3781 Q1789.36 65.3249 1793.33 63.2184 L1793.33 70.267 Q1789.32 71.9684 1785.11 72.8596 Q1780.89 73.7508 1776.56 73.7508 Q1765.7 73.7508 1759.34 67.4314 Q1753.02 61.1119 1753.02 50.3365 Q1753.02 39.1965 1759.02 32.6746 Q1765.05 26.1121 1775.26 26.1121 Q1784.42 26.1121 1789.72 32.0264 Q1795.07 37.9003 1795.07 48.0275 M1787.62 45.84 Q1787.54 39.7232 1784.17 36.0774 Q1780.85 32.4315 1775.34 32.4315 Q1769.11 32.4315 1765.34 35.9558 Q1761.61 39.4801 1761.04 45.8805 L1787.62 45.84 Z\" fill=\"#000000\" fill-rule=\"evenodd\" fill-opacity=\"1\" /><path clip-path=\"url(#clip440)\" d=\"M1833.6 34.1734 Q1832.34 33.4443 1830.84 33.1202 Q1829.38 32.7556 1827.6 32.7556 Q1821.28 32.7556 1817.88 36.8875 Q1814.52 40.9789 1814.52 48.6757 L1814.52 72.576 L1807.02 72.576 L1807.02 27.2059 L1814.52 27.2059 L1814.52 34.2544 Q1816.87 30.1225 1820.63 28.1376 Q1824.4 26.1121 1829.79 26.1121 Q1830.56 26.1121 1831.49 26.2337 Q1832.42 26.3147 1833.55 26.5172 L1833.6 34.1734 Z\" fill=\"#000000\" fill-rule=\"evenodd\" fill-opacity=\"1\" /><path clip-path=\"url(#clip440)\" d=\"M1848.62 65.7705 L1848.62 89.8329 L1841.13 89.8329 L1841.13 27.2059 L1848.62 27.2059 L1848.62 34.0924 Q1850.97 30.0415 1854.54 28.0971 Q1858.14 26.1121 1863.13 26.1121 Q1871.39 26.1121 1876.54 32.6746 Q1881.72 39.2371 1881.72 49.9314 Q1881.72 60.6258 1876.54 67.1883 Q1871.39 73.7508 1863.13 73.7508 Q1858.14 73.7508 1854.54 71.8063 Q1850.97 69.8214 1848.62 65.7705 M1873.98 49.9314 Q1873.98 41.7081 1870.58 37.0496 Q1867.22 32.3505 1861.3 32.3505 Q1855.39 32.3505 1851.99 37.0496 Q1848.62 41.7081 1848.62 49.9314 Q1848.62 58.1548 1851.99 62.8538 Q1855.39 67.5124 1861.3 67.5124 Q1867.22 67.5124 1870.58 62.8538 Q1873.98 58.1548 1873.98 49.9314 Z\" fill=\"#000000\" fill-rule=\"evenodd\" fill-opacity=\"1\" /><path clip-path=\"url(#clip440)\" d=\"M1911.66 32.4315 Q1905.66 32.4315 1902.18 37.1306 Q1898.69 41.7891 1898.69 49.9314 Q1898.69 58.0738 1902.14 62.7728 Q1905.62 67.4314 1911.66 67.4314 Q1917.61 67.4314 1921.1 62.7323 Q1924.58 58.0333 1924.58 49.9314 Q1924.58 41.8701 1921.1 37.1711 Q1917.61 32.4315 1911.66 32.4315 M1911.66 26.1121 Q1921.38 26.1121 1926.93 32.4315 Q1932.48 38.7509 1932.48 49.9314 Q1932.48 61.0714 1926.93 67.4314 Q1921.38 73.7508 1911.66 73.7508 Q1901.89 73.7508 1896.34 67.4314 Q1890.83 61.0714 1890.83 49.9314 Q1890.83 38.7509 1896.34 32.4315 Q1901.89 26.1121 1911.66 26.1121 Z\" fill=\"#000000\" fill-rule=\"evenodd\" fill-opacity=\"1\" /><path clip-path=\"url(#clip440)\" d=\"M1944.83 9.54393 L1952.29 9.54393 L1952.29 72.576 L1944.83 72.576 L1944.83 9.54393 Z\" fill=\"#000000\" fill-rule=\"evenodd\" fill-opacity=\"1\" /><path clip-path=\"url(#clip440)\" d=\"M1988.5 49.7694 Q1979.47 49.7694 1975.98 51.8354 Q1972.5 53.9013 1972.5 58.8839 Q1972.5 62.8538 1975.09 65.2034 Q1977.73 67.5124 1982.22 67.5124 Q1988.42 67.5124 1992.15 63.1374 Q1995.92 58.7219 1995.92 51.4303 L1995.92 49.7694 L1988.5 49.7694 M2003.37 46.6907 L2003.37 72.576 L1995.92 72.576 L1995.92 65.6895 Q1993.36 69.8214 1989.56 71.8063 Q1985.75 73.7508 1980.24 73.7508 Q1973.27 73.7508 1969.14 69.8619 Q1965.05 65.9325 1965.05 59.3701 Q1965.05 51.7138 1970.15 47.825 Q1975.3 43.9361 1985.46 43.9361 L1995.92 43.9361 L1995.92 43.2069 Q1995.92 38.0623 1992.51 35.2672 Q1989.15 32.4315 1983.03 32.4315 Q1979.14 32.4315 1975.46 33.3632 Q1971.77 34.295 1968.37 36.1584 L1968.37 29.2718 Q1972.46 27.692 1976.31 26.9223 Q1980.16 26.1121 1983.8 26.1121 Q1993.65 26.1121 1998.51 31.2163 Q2003.37 36.3204 2003.37 46.6907 Z\" fill=\"#000000\" fill-rule=\"evenodd\" fill-opacity=\"1\" /><path clip-path=\"url(#clip440)\" d=\"M2026.09 14.324 L2026.09 27.2059 L2041.45 27.2059 L2041.45 32.9987 L2026.09 32.9987 L2026.09 57.6282 Q2026.09 63.1779 2027.59 64.7578 Q2029.13 66.3376 2033.79 66.3376 L2041.45 66.3376 L2041.45 72.576 L2033.79 72.576 Q2025.16 72.576 2021.88 69.3758 Q2018.6 66.1351 2018.6 57.6282 L2018.6 32.9987 L2013.13 32.9987 L2013.13 27.2059 L2018.6 27.2059 L2018.6 14.324 L2026.09 14.324 Z\" fill=\"#000000\" fill-rule=\"evenodd\" fill-opacity=\"1\" /><path clip-path=\"url(#clip440)\" d=\"M2051.25 27.2059 L2058.7 27.2059 L2058.7 72.576 L2051.25 72.576 L2051.25 27.2059 M2051.25 9.54393 L2058.7 9.54393 L2058.7 18.9825 L2051.25 18.9825 L2051.25 9.54393 Z\" fill=\"#000000\" fill-rule=\"evenodd\" fill-opacity=\"1\" /><path clip-path=\"url(#clip440)\" d=\"M2091.88 32.4315 Q2085.89 32.4315 2082.4 37.1306 Q2078.92 41.7891 2078.92 49.9314 Q2078.92 58.0738 2082.36 62.7728 Q2085.85 67.4314 2091.88 67.4314 Q2097.84 67.4314 2101.32 62.7323 Q2104.8 58.0333 2104.8 49.9314 Q2104.8 41.8701 2101.32 37.1711 Q2097.84 32.4315 2091.88 32.4315 M2091.88 26.1121 Q2101.6 26.1121 2107.15 32.4315 Q2112.7 38.7509 2112.7 49.9314 Q2112.7 61.0714 2107.15 67.4314 Q2101.6 73.7508 2091.88 73.7508 Q2082.12 73.7508 2076.57 67.4314 Q2071.06 61.0714 2071.06 49.9314 Q2071.06 38.7509 2076.57 32.4315 Q2082.12 26.1121 2091.88 26.1121 Z\" fill=\"#000000\" fill-rule=\"evenodd\" fill-opacity=\"1\" /><path clip-path=\"url(#clip440)\" d=\"M2162.77 45.1919 L2162.77 72.576 L2155.32 72.576 L2155.32 45.4349 Q2155.32 38.994 2152.81 35.7938 Q2150.3 32.5936 2145.27 32.5936 Q2139.24 32.5936 2135.75 36.4419 Q2132.27 40.2903 2132.27 46.9338 L2132.27 72.576 L2124.77 72.576 L2124.77 27.2059 L2132.27 27.2059 L2132.27 34.2544 Q2134.94 30.163 2138.55 28.1376 Q2142.19 26.1121 2146.93 26.1121 Q2154.75 26.1121 2158.76 30.9732 Q2162.77 35.7938 2162.77 45.1919 Z\" fill=\"#000000\" fill-rule=\"evenodd\" fill-opacity=\"1\" /><polyline clip-path=\"url(#clip442)\" style=\"stroke:#0000ff; stroke-linecap:round; stroke-linejoin:round; stroke-width:16; stroke-opacity:1; fill:none\" points=\"\n",
       "  434.439,1397.54 659.518,1397.42 884.597,1395.55 1109.68,1387.46 1334.76,1365.66 1559.84,1319.71 1784.91,1236.15 2009.99,1098.54 2235.07,887.449 2460.15,580.469 \n",
       "  2685.23,152.193 \n",
       "  \"/>\n",
       "<polyline clip-path=\"url(#clip442)\" style=\"stroke:#ff0000; stroke-linecap:round; stroke-linejoin:round; stroke-width:16; stroke-opacity:1; fill:none\" stroke-dasharray=\"64, 40\" points=\"\n",
       "  434.439,1397.54 659.518,1381.98 884.597,1366.41 1109.68,1350.84 1334.76,1335.28 1559.84,1319.71 1784.91,1086.21 2009.99,852.703 2235.07,619.2 2460.15,385.696 \n",
       "  2685.23,152.193 \n",
       "  \"/>\n",
       "<path clip-path=\"url(#clip440)\" d=\"\n",
       "M446.443 314.355 L771.786 314.355 L771.786 158.835 L446.443 158.835  Z\n",
       "  \" fill=\"#ffffff\" fill-rule=\"evenodd\" fill-opacity=\"1\"/>\n",
       "<polyline clip-path=\"url(#clip440)\" style=\"stroke:#000000; stroke-linecap:round; stroke-linejoin:round; stroke-width:4; stroke-opacity:1; fill:none\" points=\"\n",
       "  446.443,314.355 771.786,314.355 771.786,158.835 446.443,158.835 446.443,314.355 \n",
       "  \"/>\n",
       "<polyline clip-path=\"url(#clip440)\" style=\"stroke:#0000ff; stroke-linecap:round; stroke-linejoin:round; stroke-width:4; stroke-opacity:1; fill:none\" points=\"\n",
       "  472.952,210.675 632.008,210.675 \n",
       "  \"/>\n",
       "<path clip-path=\"url(#clip440)\" d=\"M675.022 191.936 L675.022 195.478 L670.948 195.478 Q668.656 195.478 667.754 196.404 Q666.874 197.33 666.874 199.737 L666.874 202.029 L673.888 202.029 L673.888 205.339 L666.874 205.339 L666.874 227.955 L662.592 227.955 L662.592 205.339 L658.518 205.339 L658.518 202.029 L662.592 202.029 L662.592 200.223 Q662.592 195.895 664.606 193.927 Q666.619 191.936 670.994 191.936 L675.022 191.936 Z\" fill=\"#000000\" fill-rule=\"evenodd\" fill-opacity=\"1\" /><path clip-path=\"url(#clip440)\" d=\"M688.818 191.983 Q685.717 197.307 684.212 202.515 Q682.707 207.723 682.707 213.07 Q682.707 218.418 684.212 223.672 Q685.74 228.904 688.818 234.205 L685.115 234.205 Q681.643 228.765 679.906 223.51 Q678.193 218.256 678.193 213.07 Q678.193 207.908 679.906 202.677 Q681.619 197.445 685.115 191.983 L688.818 191.983 Z\" fill=\"#000000\" fill-rule=\"evenodd\" fill-opacity=\"1\" /><path clip-path=\"url(#clip440)\" d=\"M718.633 202.029 L709.258 214.644 L719.119 227.955 L714.096 227.955 L706.55 217.769 L699.004 227.955 L693.98 227.955 L704.05 214.39 L694.837 202.029 L699.86 202.029 L706.735 211.265 L713.61 202.029 L718.633 202.029 Z\" fill=\"#000000\" fill-rule=\"evenodd\" fill-opacity=\"1\" /><path clip-path=\"url(#clip440)\" d=\"M724.466 191.983 L728.17 191.983 Q731.642 197.445 733.355 202.677 Q735.091 207.908 735.091 213.07 Q735.091 218.256 733.355 223.51 Q731.642 228.765 728.17 234.205 L724.466 234.205 Q727.545 228.904 729.05 223.672 Q730.577 218.418 730.577 213.07 Q730.577 207.723 729.05 202.515 Q727.545 197.307 724.466 191.983 Z\" fill=\"#000000\" fill-rule=\"evenodd\" fill-opacity=\"1\" /><polyline clip-path=\"url(#clip440)\" style=\"stroke:#ff0000; stroke-linecap:round; stroke-linejoin:round; stroke-width:4; stroke-opacity:1; fill:none\" stroke-dasharray=\"16, 10\" points=\"\n",
       "  472.952,262.515 632.008,262.515 \n",
       "  \"/>\n",
       "<path clip-path=\"url(#clip440)\" d=\"M662.8 275.906 L662.8 289.656 L658.518 289.656 L658.518 253.869 L662.8 253.869 L662.8 257.804 Q664.143 255.489 666.18 254.378 Q668.24 253.244 671.087 253.244 Q675.809 253.244 678.749 256.994 Q681.712 260.744 681.712 266.855 Q681.712 272.966 678.749 276.716 Q675.809 280.466 671.087 280.466 Q668.24 280.466 666.18 279.355 Q664.143 278.221 662.8 275.906 M677.291 266.855 Q677.291 262.156 675.346 259.494 Q673.425 256.809 670.045 256.809 Q666.666 256.809 664.721 259.494 Q662.8 262.156 662.8 266.855 Q662.8 271.554 664.721 274.239 Q666.666 276.901 670.045 276.901 Q673.425 276.901 675.346 274.239 Q677.291 271.554 677.291 266.855 Z\" fill=\"#000000\" fill-rule=\"evenodd\" fill-opacity=\"1\" /><path clip-path=\"url(#clip440)\" d=\"M699.004 243.823 Q695.902 249.147 694.397 254.355 Q692.892 259.563 692.892 264.91 Q692.892 270.258 694.397 275.512 Q695.925 280.744 699.004 286.045 L695.3 286.045 Q691.828 280.605 690.092 275.35 Q688.379 270.096 688.379 264.91 Q688.379 259.748 690.092 254.517 Q691.805 249.285 695.3 243.823 L699.004 243.823 Z\" fill=\"#000000\" fill-rule=\"evenodd\" fill-opacity=\"1\" /><path clip-path=\"url(#clip440)\" d=\"M728.818 253.869 L719.443 266.484 L729.304 279.795 L724.281 279.795 L716.735 269.609 L709.189 279.795 L704.166 279.795 L714.235 266.23 L705.022 253.869 L710.045 253.869 L716.92 263.105 L723.795 253.869 L728.818 253.869 Z\" fill=\"#000000\" fill-rule=\"evenodd\" fill-opacity=\"1\" /><path clip-path=\"url(#clip440)\" d=\"M734.652 243.823 L738.355 243.823 Q741.827 249.285 743.54 254.517 Q745.276 259.748 745.276 264.91 Q745.276 270.096 743.54 275.35 Q741.827 280.605 738.355 286.045 L734.652 286.045 Q737.73 280.744 739.235 275.512 Q740.763 270.258 740.763 264.91 Q740.763 259.563 739.235 254.355 Q737.73 249.147 734.652 243.823 Z\" fill=\"#000000\" fill-rule=\"evenodd\" fill-opacity=\"1\" /></svg>\n"
      ]
     },
     "execution_count": 100,
     "metadata": {},
     "output_type": "execute_result"
    }
   ],
   "source": [
    "Plots.plot(a:b,\n",
    "    [f, lin_result], \n",
    "    xlabel     = \"x\",\n",
    "    ylabel     = \"f(x),p(x)\",\n",
    "    title      = \"Piecewise linear interpolation\",\n",
    "    label      = [\"f(x)\" \"p(x)\"],\n",
    "    linecolor  = [:blue :red],\n",
    "    linewidth  = 4, \n",
    "    linestyle  = [:solid :dash],\n",
    "    size       = (700,400), \n",
    "    legend     = :topleft,\n",
    ")\n"
   ]
  },
  {
   "cell_type": "code",
   "execution_count": null,
   "id": "8266f6d2-a29a-4a88-9bb2-8df3491f74a4",
   "metadata": {},
   "outputs": [],
   "source": []
  }
 ],
 "metadata": {
  "kernelspec": {
   "display_name": "Julia 1.8.1",
   "language": "julia",
   "name": "julia-1.8"
  },
  "language_info": {
   "file_extension": ".jl",
   "mimetype": "application/julia",
   "name": "julia",
   "version": "1.8.1"
  }
 },
 "nbformat": 4,
 "nbformat_minor": 5
}

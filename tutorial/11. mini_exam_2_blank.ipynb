{
 "cells": [
  {
   "cell_type": "markdown",
   "id": "17296dcb-d430-409e-9304-e3ae5a1c36fb",
   "metadata": {},
   "source": [
    "# 11. Mini exam (2)"
   ]
  },
  {
   "cell_type": "markdown",
   "id": "464ecca0-73e7-422f-8567-59c41573de0a",
   "metadata": {},
   "source": [
    "#### Naoki TANI\n",
    "#### Center for Advanced Policy Studies (CAPS), Institute of Economic Research, Kyoto University\n",
    "#### July 19, 2023\n",
    "#### 13:25 ~ 15:00"
   ]
  },
  {
   "cell_type": "code",
   "execution_count": 1,
   "id": "a13d06c0-80f2-4eed-9121-8dd37104b81f",
   "metadata": {},
   "outputs": [],
   "source": [
    "using Plots\n",
    "using DataFrames\n",
    "using Random\n",
    "using Dates\n",
    "using Statistics\n",
    "using Downloads\n",
    "using Optim\n",
    "using Symbolics\n",
    "using LaTeXStrings #write LaTeX equations in string label in plot"
   ]
  },
  {
   "cell_type": "markdown",
   "id": "261c044e-0bae-4a1c-81b6-b898c63b9bfa",
   "metadata": {},
   "source": [
    "## 1. DataFrames"
   ]
  },
  {
   "cell_type": "markdown",
   "id": "7ed30f5c-3b24-48cc-a194-723b39640811",
   "metadata": {},
   "source": [
    "#### $\\mathit{Q}$-1. Creat a DataFrame with $25$ rows $\\times$ $3$ columns. The column names are `prefecture`, `year`, and `growth_rate`. \n",
    "#### `prefecture` is a categorical variable made up of `Kyoto`, `Osaka`, `Hyogo`, `Nara`, and `Wakayama`. \n",
    "#### `year` is also a categorical variable whose values are consecutive numbers from `2010` to `2014`.\n",
    "#### You should derive $25$ patterns of combination with `prefecture` and `year`, which correspond to the 25 rows of your DataFrame.\n",
    "#### The values of `growth_rate` are drawn from the standard normal distribution  $\\mathcal{N}(0,1)$."
   ]
  },
  {
   "cell_type": "code",
   "execution_count": 2,
   "id": "379f8161-0f5e-4b08-bff9-a5808a793ba9",
   "metadata": {},
   "outputs": [
    {
     "data": {
      "text/html": [
       "<div class=\"data-frame\"><p>25 rows × 3 columns</p><table class=\"data-frame\"><thead><tr><th></th><th>prefecture</th><th>year</th><th>growth_rate</th></tr><tr><th></th><th title=\"String\">String</th><th title=\"Int64\">Int64</th><th title=\"Float64\">Float64</th></tr></thead><tbody><tr><th>1</th><td>Kyoto</td><td>2010</td><td>-0.467455</td></tr><tr><th>2</th><td>Kyoto</td><td>2011</td><td>0.239184</td></tr><tr><th>3</th><td>Kyoto</td><td>2012</td><td>-2.53885</td></tr><tr><th>4</th><td>Kyoto</td><td>2013</td><td>1.20663</td></tr><tr><th>5</th><td>Kyoto</td><td>2014</td><td>-0.306165</td></tr><tr><th>6</th><td>Osaka</td><td>2010</td><td>-1.67647</td></tr><tr><th>7</th><td>Osaka</td><td>2011</td><td>0.205398</td></tr><tr><th>8</th><td>Osaka</td><td>2012</td><td>0.25311</td></tr><tr><th>9</th><td>Osaka</td><td>2013</td><td>-1.66864</td></tr><tr><th>10</th><td>Osaka</td><td>2014</td><td>-2.13482</td></tr><tr><th>11</th><td>Hyogo</td><td>2010</td><td>0.354542</td></tr><tr><th>12</th><td>Hyogo</td><td>2011</td><td>-1.09125</td></tr><tr><th>13</th><td>Hyogo</td><td>2012</td><td>0.52217</td></tr><tr><th>14</th><td>Hyogo</td><td>2013</td><td>0.865142</td></tr><tr><th>15</th><td>Hyogo</td><td>2014</td><td>0.772765</td></tr><tr><th>16</th><td>Nara</td><td>2010</td><td>-0.773335</td></tr><tr><th>17</th><td>Nara</td><td>2011</td><td>0.72242</td></tr><tr><th>18</th><td>Nara</td><td>2012</td><td>0.125241</td></tr><tr><th>19</th><td>Nara</td><td>2013</td><td>-0.972833</td></tr><tr><th>20</th><td>Nara</td><td>2014</td><td>-0.992347</td></tr><tr><th>21</th><td>Wakayama</td><td>2010</td><td>1.2147</td></tr><tr><th>22</th><td>Wakayama</td><td>2011</td><td>-0.555204</td></tr><tr><th>23</th><td>Wakayama</td><td>2012</td><td>-0.120994</td></tr><tr><th>24</th><td>Wakayama</td><td>2013</td><td>-1.52965</td></tr><tr><th>25</th><td>Wakayama</td><td>2014</td><td>-0.633366</td></tr></tbody></table></div>"
      ],
      "text/latex": [
       "\\begin{tabular}{r|ccc}\n",
       "\t& prefecture & year & growth\\_rate\\\\\n",
       "\t\\hline\n",
       "\t& String & Int64 & Float64\\\\\n",
       "\t\\hline\n",
       "\t1 & Kyoto & 2010 & -0.467455 \\\\\n",
       "\t2 & Kyoto & 2011 & 0.239184 \\\\\n",
       "\t3 & Kyoto & 2012 & -2.53885 \\\\\n",
       "\t4 & Kyoto & 2013 & 1.20663 \\\\\n",
       "\t5 & Kyoto & 2014 & -0.306165 \\\\\n",
       "\t6 & Osaka & 2010 & -1.67647 \\\\\n",
       "\t7 & Osaka & 2011 & 0.205398 \\\\\n",
       "\t8 & Osaka & 2012 & 0.25311 \\\\\n",
       "\t9 & Osaka & 2013 & -1.66864 \\\\\n",
       "\t10 & Osaka & 2014 & -2.13482 \\\\\n",
       "\t11 & Hyogo & 2010 & 0.354542 \\\\\n",
       "\t12 & Hyogo & 2011 & -1.09125 \\\\\n",
       "\t13 & Hyogo & 2012 & 0.52217 \\\\\n",
       "\t14 & Hyogo & 2013 & 0.865142 \\\\\n",
       "\t15 & Hyogo & 2014 & 0.772765 \\\\\n",
       "\t16 & Nara & 2010 & -0.773335 \\\\\n",
       "\t17 & Nara & 2011 & 0.72242 \\\\\n",
       "\t18 & Nara & 2012 & 0.125241 \\\\\n",
       "\t19 & Nara & 2013 & -0.972833 \\\\\n",
       "\t20 & Nara & 2014 & -0.992347 \\\\\n",
       "\t21 & Wakayama & 2010 & 1.2147 \\\\\n",
       "\t22 & Wakayama & 2011 & -0.555204 \\\\\n",
       "\t23 & Wakayama & 2012 & -0.120994 \\\\\n",
       "\t24 & Wakayama & 2013 & -1.52965 \\\\\n",
       "\t25 & Wakayama & 2014 & -0.633366 \\\\\n",
       "\\end{tabular}\n"
      ],
      "text/plain": [
       "\u001b[1m25×3 DataFrame\u001b[0m\n",
       "\u001b[1m Row \u001b[0m│\u001b[1m prefecture \u001b[0m\u001b[1m year  \u001b[0m\u001b[1m growth_rate \u001b[0m\n",
       "\u001b[1m     \u001b[0m│\u001b[90m String     \u001b[0m\u001b[90m Int64 \u001b[0m\u001b[90m Float64     \u001b[0m\n",
       "─────┼────────────────────────────────\n",
       "   1 │ Kyoto        2010    -0.467455\n",
       "   2 │ Kyoto        2011     0.239184\n",
       "   3 │ Kyoto        2012    -2.53885\n",
       "   4 │ Kyoto        2013     1.20663\n",
       "   5 │ Kyoto        2014    -0.306165\n",
       "   6 │ Osaka        2010    -1.67647\n",
       "   7 │ Osaka        2011     0.205398\n",
       "   8 │ Osaka        2012     0.25311\n",
       "   9 │ Osaka        2013    -1.66864\n",
       "  10 │ Osaka        2014    -2.13482\n",
       "  11 │ Hyogo        2010     0.354542\n",
       "  ⋮  │     ⋮         ⋮         ⋮\n",
       "  16 │ Nara         2010    -0.773335\n",
       "  17 │ Nara         2011     0.72242\n",
       "  18 │ Nara         2012     0.125241\n",
       "  19 │ Nara         2013    -0.972833\n",
       "  20 │ Nara         2014    -0.992347\n",
       "  21 │ Wakayama     2010     1.2147\n",
       "  22 │ Wakayama     2011    -0.555204\n",
       "  23 │ Wakayama     2012    -0.120994\n",
       "  24 │ Wakayama     2013    -1.52965\n",
       "  25 │ Wakayama     2014    -0.633366\n",
       "\u001b[36m                        4 rows omitted\u001b[0m"
      ]
     },
     "execution_count": 2,
     "metadata": {},
     "output_type": "execute_result"
    }
   ],
   "source": [
    "prefecture = [\"Kyoto\", \"Osaka\", \"Hyogo\", \"Nara\", \"Wakayama\"]\n",
    "year = Int.(range(2010,2014, length = 5))\n",
    "\n",
    "\n",
    "\n",
    "\n",
    "\n",
    "\n",
    "data"
   ]
  },
  {
   "cell_type": "markdown",
   "id": "eb259041-8e89-4c8d-9301-92fecc0c5615",
   "metadata": {},
   "source": [
    "#### $\\mathit{Q}$-2. Reshape your data to a $5$ rows $\\times$ $6$ columns DataFrame by using _*for loop*_.\n",
    "#### Each row corresponds to `year` in your initial data.\n",
    "#### The column names are `year`, `Kyoto`, `Osaka`, `Hyogo`, `Nara`, and `Wakayama`."
   ]
  },
  {
   "cell_type": "code",
   "execution_count": 3,
   "id": "6728276d-360c-4ace-8a52-8385dae4a2e6",
   "metadata": {},
   "outputs": [
    {
     "data": {
      "text/html": [
       "<div class=\"data-frame\"><p>5 rows × 6 columns</p><table class=\"data-frame\"><thead><tr><th></th><th>year</th><th>Kyoto</th><th>Osaka</th><th>Hyogo</th><th>Nara</th><th>Wakayama</th></tr><tr><th></th><th title=\"Int64\">Int64</th><th title=\"Float64\">Float64</th><th title=\"Float64\">Float64</th><th title=\"Float64\">Float64</th><th title=\"Float64\">Float64</th><th title=\"Float64\">Float64</th></tr></thead><tbody><tr><th>1</th><td>2010</td><td>-0.467455</td><td>-1.67647</td><td>0.354542</td><td>-0.773335</td><td>1.2147</td></tr><tr><th>2</th><td>2011</td><td>0.239184</td><td>0.205398</td><td>-1.09125</td><td>0.72242</td><td>-0.555204</td></tr><tr><th>3</th><td>2012</td><td>-2.53885</td><td>0.25311</td><td>0.52217</td><td>0.125241</td><td>-0.120994</td></tr><tr><th>4</th><td>2013</td><td>1.20663</td><td>-1.66864</td><td>0.865142</td><td>-0.972833</td><td>-1.52965</td></tr><tr><th>5</th><td>2014</td><td>-0.306165</td><td>-2.13482</td><td>0.772765</td><td>-0.992347</td><td>-0.633366</td></tr></tbody></table></div>"
      ],
      "text/latex": [
       "\\begin{tabular}{r|cccccc}\n",
       "\t& year & Kyoto & Osaka & Hyogo & Nara & Wakayama\\\\\n",
       "\t\\hline\n",
       "\t& Int64 & Float64 & Float64 & Float64 & Float64 & Float64\\\\\n",
       "\t\\hline\n",
       "\t1 & 2010 & -0.467455 & -1.67647 & 0.354542 & -0.773335 & 1.2147 \\\\\n",
       "\t2 & 2011 & 0.239184 & 0.205398 & -1.09125 & 0.72242 & -0.555204 \\\\\n",
       "\t3 & 2012 & -2.53885 & 0.25311 & 0.52217 & 0.125241 & -0.120994 \\\\\n",
       "\t4 & 2013 & 1.20663 & -1.66864 & 0.865142 & -0.972833 & -1.52965 \\\\\n",
       "\t5 & 2014 & -0.306165 & -2.13482 & 0.772765 & -0.992347 & -0.633366 \\\\\n",
       "\\end{tabular}\n"
      ],
      "text/plain": [
       "\u001b[1m5×6 DataFrame\u001b[0m\n",
       "\u001b[1m Row \u001b[0m│\u001b[1m year  \u001b[0m\u001b[1m Kyoto     \u001b[0m\u001b[1m Osaka     \u001b[0m\u001b[1m Hyogo     \u001b[0m\u001b[1m Nara      \u001b[0m\u001b[1m Wakayama  \u001b[0m\n",
       "\u001b[1m     \u001b[0m│\u001b[90m Int64 \u001b[0m\u001b[90m Float64   \u001b[0m\u001b[90m Float64   \u001b[0m\u001b[90m Float64   \u001b[0m\u001b[90m Float64   \u001b[0m\u001b[90m Float64   \u001b[0m\n",
       "─────┼──────────────────────────────────────────────────────────────\n",
       "   1 │  2010  -0.467455  -1.67647    0.354542  -0.773335   1.2147\n",
       "   2 │  2011   0.239184   0.205398  -1.09125    0.72242   -0.555204\n",
       "   3 │  2012  -2.53885    0.25311    0.52217    0.125241  -0.120994\n",
       "   4 │  2013   1.20663   -1.66864    0.865142  -0.972833  -1.52965\n",
       "   5 │  2014  -0.306165  -2.13482    0.772765  -0.992347  -0.633366"
      ]
     },
     "execution_count": 3,
     "metadata": {},
     "output_type": "execute_result"
    }
   ],
   "source": [
    "# solution using for loop\n",
    "reshape = DataFrame(year=year)\n",
    "\n",
    "\n",
    "\n",
    "\n",
    "\n",
    "reshape"
   ]
  },
  {
   "cell_type": "code",
   "execution_count": null,
   "id": "77bab09e-41ab-4a62-9d08-c2574a7d1e41",
   "metadata": {},
   "outputs": [],
   "source": []
  },
  {
   "cell_type": "markdown",
   "id": "e0fd0702-25bb-4263-afdc-fec77c0b621f",
   "metadata": {},
   "source": [
    "## 2. Lagrange multipliers"
   ]
  },
  {
   "cell_type": "markdown",
   "id": "1edbb9ec-f16a-4f6a-b21b-bbfe43c43c2e",
   "metadata": {},
   "source": [
    "#### $\\mathit{Q}$-3. Find the maximum value of $f(x,y)$ subject to the constraint below, using the method o Lagrange multipliers."
   ]
  },
  {
   "cell_type": "markdown",
   "id": "a1322044-2560-4d90-a0a3-f47e6532562f",
   "metadata": {},
   "source": [
    "#### $$\\max_{x,y}\\quad f(x,y) = 9x^2 +36xy - 4y^2 - 18x - 8y$$\n",
    "#### $$\\text{subject to}\\quad 3x + 4y = 32$$"
   ]
  },
  {
   "cell_type": "code",
   "execution_count": 4,
   "id": "1294883a-8498-40f4-ad8e-5b0f38c1d3a4",
   "metadata": {},
   "outputs": [],
   "source": [
    "# solution"
   ]
  },
  {
   "cell_type": "code",
   "execution_count": 5,
   "id": "8c6e8c7e-d8e9-4333-a2cf-a10d830fbc0e",
   "metadata": {},
   "outputs": [
    {
     "data": {
      "text/latex": [
       "$$ \\begin{equation}\n",
       "\\left[\n",
       "\\begin{array}{c}\n",
       "x \\\\\n",
       "y \\\\\n",
       "\\lambda \\\\\n",
       "\\end{array}\n",
       "\\right]\n",
       "\\end{equation}\n",
       " $$"
      ],
      "text/plain": [
       "3-element Vector{Num}:\n",
       " x\n",
       " y\n",
       " λ"
      ]
     },
     "execution_count": 5,
     "metadata": {},
     "output_type": "execute_result"
    }
   ],
   "source": [
    "# define variables\n",
    "@variables x y λ"
   ]
  },
  {
   "cell_type": "code",
   "execution_count": null,
   "id": "ced6ebc4-d82a-4e40-bf18-e4b11ff90172",
   "metadata": {},
   "outputs": [],
   "source": [
    "# define the lagrangian\n"
   ]
  },
  {
   "cell_type": "code",
   "execution_count": null,
   "id": "f4a52741-46e9-43f1-acd6-dad9f985c58c",
   "metadata": {},
   "outputs": [],
   "source": []
  },
  {
   "cell_type": "code",
   "execution_count": null,
   "id": "9579d791-cf3d-4294-b290-ddb91642f144",
   "metadata": {},
   "outputs": [],
   "source": []
  },
  {
   "cell_type": "markdown",
   "id": "e301a33e-3a82-4cc0-8bae-70003bf6bc9d",
   "metadata": {},
   "source": [
    "## 3. Solow's growth model"
   ]
  },
  {
   "cell_type": "markdown",
   "id": "f766e3d2-5b97-4752-a570-184dd12aafd4",
   "metadata": {},
   "source": [
    "#### We consider the solow's growth problem. The setup is the same with that in the previous lesson."
   ]
  },
  {
   "cell_type": "markdown",
   "id": "8a7a73c8-c96d-443d-aa46-981900457957",
   "metadata": {},
   "source": [
    "#### Setup"
   ]
  },
  {
   "cell_type": "markdown",
   "id": "2972fe58-8f45-4fae-836d-e6b6eead9dd6",
   "metadata": {},
   "source": [
    "#### Production function is \n",
    "#### $$Y_t = a F(K_t, L_t)\\quad,$$\n",
    "#### where $Y_t$ is output, $a$ is the level of technology, $K_t$ is capital stock, and $L_t$ is labor."
   ]
  },
  {
   "cell_type": "markdown",
   "id": "da63e559-6fc5-411c-84a6-2e73d3f381c0",
   "metadata": {},
   "source": [
    "#### Assumption of properties of $F(K_t, L_t)$\n",
    "#### - twice continuously differentiable and strictly concave: $F_i >0$, $F_{ii} <0$, $F_{ij} >0$\n",
    "#### - Inada condition: $F(K_t,0) = 0$, $F(0, L_t) = 0$, $F_L(K_t,0) = \\infty$, $F_K(0,L_t) = \\infty$, $F_L(K_t,\\infty) = 0$, $F_K(\\infty,L_t) = 0$"
   ]
  },
  {
   "cell_type": "markdown",
   "id": "8b773652-3532-4c08-a085-7a7d1d9fe1aa",
   "metadata": {},
   "source": [
    "#### The population grows at a consant rate $\\ell$:  $$L_{t+1} = (1 + \\ell)L_{t}$$\n",
    "#### Capital accumulates as follows,\n",
    "#### $$K_{t+1} = (1-\\delta)K_{t} + I_{t}\\quad ,$$\n",
    "#### where $I_t$ is the investment at time $t$ and it is financed by saving: $I_t = S_t$.\n",
    "#### Saving is a portion of output:\n",
    "#### $$S_t = s Y_t \\quad,$$\n",
    "#### where the parameter $s$ is exogenously given.\n",
    "#### Output is either consumed or invested: $Y_t = C_t + I_t$"
   ]
  },
  {
   "cell_type": "code",
   "execution_count": null,
   "id": "4c6e4584-0291-49b3-b3c5-2f631d350137",
   "metadata": {},
   "outputs": [],
   "source": []
  },
  {
   "cell_type": "markdown",
   "id": "21e3489a-b7c9-4e19-8be6-785dfdccf5be",
   "metadata": {},
   "source": [
    "#### $\\mathit{Q}$-4. Find the value of $k^*=k_{t+1}=k_{t}$ at the steady-state by simulating the capital accumulation equation until $|k_{t}-k_{t+1}|$ becomes smaller than $10^{-100}$. Report how long it takes for the model to converge to the steady-state."
   ]
  },
  {
   "cell_type": "code",
   "execution_count": 14,
   "id": "ba3b53ad-de90-4b9d-a669-c02f6ae0edb2",
   "metadata": {},
   "outputs": [],
   "source": []
  },
  {
   "cell_type": "code",
   "execution_count": 15,
   "id": "fad9b799-0f73-49df-8e42-ac8b64f6f42f",
   "metadata": {},
   "outputs": [
    {
     "data": {
      "text/plain": [
       "Parameters(1.1, 0.5, 0.2, 0.4, 0.4)"
      ]
     },
     "execution_count": 15,
     "metadata": {},
     "output_type": "execute_result"
    }
   ],
   "source": [
    "struct Parameters\n",
    "    a::Float64 #technology\n",
    "    ℓ::Float64 #population growth\n",
    "    δ::Float64 #capital depreciation\n",
    "    s::Float64 #saving rate\n",
    "    α::Float64 #output elasticity for capital\n",
    "end\n",
    "\n",
    "p = Parameters(1.1, 0.5, 0.2, 0.4, 0.4)"
   ]
  },
  {
   "cell_type": "code",
   "execution_count": 16,
   "id": "240c7cef-aaee-4953-93fb-ca0c0e785343",
   "metadata": {},
   "outputs": [
    {
     "data": {
      "text/plain": [
       "capital (generic function with 1 method)"
      ]
     },
     "execution_count": 16,
     "metadata": {},
     "output_type": "execute_result"
    }
   ],
   "source": [
    "function capital(k::Float64, p::Parameters)\n",
    "    kn = \n",
    "    return kn\n",
    "end"
   ]
  },
  {
   "cell_type": "code",
   "execution_count": null,
   "id": "7865f277-98fe-42d4-b364-cdc6fc6b3481",
   "metadata": {},
   "outputs": [],
   "source": [
    "function convergence(k0::Float64, p::Parameters)\n",
    "\n",
    "    \n",
    "    \n",
    "    \n",
    "    return(kn,period)\n",
    "end"
   ]
  },
  {
   "cell_type": "code",
   "execution_count": null,
   "id": "cb0a2d2f-4d58-43e0-9e22-ae3e3340e297",
   "metadata": {},
   "outputs": [],
   "source": [
    "convergence(0.1,p)"
   ]
  },
  {
   "cell_type": "code",
   "execution_count": null,
   "id": "d7c76ec5-ab78-4ec2-8f9c-32e470c4a648",
   "metadata": {},
   "outputs": [],
   "source": []
  },
  {
   "cell_type": "code",
   "execution_count": null,
   "id": "a374e6ac-711d-4712-bd10-16e30272ba04",
   "metadata": {},
   "outputs": [],
   "source": []
  },
  {
   "cell_type": "markdown",
   "id": "223829cf-781b-47cc-a11c-b9c5894839a0",
   "metadata": {},
   "source": [
    "#### $\\mathit{Q}$-5. Derive the closed form solution of steady-state capital $k^*$ and compare the value with that in the previous question."
   ]
  },
  {
   "cell_type": "code",
   "execution_count": 21,
   "id": "9feeeb34-806c-41b2-b390-2c9a2d838c39",
   "metadata": {},
   "outputs": [],
   "source": []
  },
  {
   "cell_type": "code",
   "execution_count": null,
   "id": "ae87a904-b0f7-43af-ae09-56c8a0a381c1",
   "metadata": {},
   "outputs": [],
   "source": []
  },
  {
   "cell_type": "code",
   "execution_count": null,
   "id": "cb92d6e6-d6a2-48e2-9135-8df8bd19191c",
   "metadata": {},
   "outputs": [],
   "source": [
    "k_close(p::Parameters) = \n",
    "k_cl= round(k_close(p), digits=3)"
   ]
  },
  {
   "cell_type": "code",
   "execution_count": 23,
   "id": "d26c50d5-8d8d-4759-a0e5-3bab775e4e21",
   "metadata": {},
   "outputs": [
    {
     "name": "stdout",
     "output_type": "stream",
     "text": [
      "The closed form solution of k* is 0.461 and it is almost equal to that in the previous question.\n"
     ]
    }
   ],
   "source": [
    "println(\"The closed form solution of k* is $(k_cl) and it is almost equal to that in the previous question.\")"
   ]
  },
  {
   "cell_type": "code",
   "execution_count": null,
   "id": "97526776-30c2-488e-bedd-d134a7ef92fc",
   "metadata": {},
   "outputs": [],
   "source": []
  },
  {
   "cell_type": "markdown",
   "id": "c5f1df4e-b507-42f3-9c53-dc36cc0546b6",
   "metadata": {},
   "source": [
    "#### $\\mathit{Q}$-6. Use Steffensen's method and find the value of $k^*=k_{t+1}=k_{t}$ at the steady-state by simulating the capital accumulation equation. Report how long it takes for the model to converge to the steady-state."
   ]
  },
  {
   "cell_type": "markdown",
   "id": "3bd3bd0b-8190-485e-8e80-079a3eda1847",
   "metadata": {},
   "source": [
    "#### Hint: Steffensen's method\n",
    "#### $$x_{n+1} = f(x_{n}),\\quad n=0,1,2,...,$$\n",
    "#### $$f(x) = x - \\frac{(f(x)-x)^2}{f(f(x))-2f(x)+x}$$\n",
    "#### $f(x)$ achieves quadratic convergence."
   ]
  },
  {
   "cell_type": "code",
   "execution_count": null,
   "id": "05c8c86c-0f79-4c79-a3a7-ad664d006111",
   "metadata": {},
   "outputs": [],
   "source": [
    "function steffensen(k0::Float64, p::Parameters)\n",
    "\n",
    "    \n",
    "    return(k,period)\n",
    "end"
   ]
  },
  {
   "cell_type": "code",
   "execution_count": null,
   "id": "a0e455b2-3e6a-4f97-a4cf-89928620bda3",
   "metadata": {},
   "outputs": [],
   "source": [
    "steffensen(0.1,p)"
   ]
  },
  {
   "cell_type": "code",
   "execution_count": null,
   "id": "db7b0a4c-1236-49bb-96af-6182e108a0fe",
   "metadata": {},
   "outputs": [],
   "source": []
  },
  {
   "cell_type": "code",
   "execution_count": null,
   "id": "e822d557-0ad3-45cb-9c46-bfbcc6dade5f",
   "metadata": {},
   "outputs": [],
   "source": []
  }
 ],
 "metadata": {
  "kernelspec": {
   "display_name": "Julia 1.8.1",
   "language": "julia",
   "name": "julia-1.8"
  },
  "language_info": {
   "file_extension": ".jl",
   "mimetype": "application/julia",
   "name": "julia",
   "version": "1.8.1"
  }
 },
 "nbformat": 4,
 "nbformat_minor": 5
}
